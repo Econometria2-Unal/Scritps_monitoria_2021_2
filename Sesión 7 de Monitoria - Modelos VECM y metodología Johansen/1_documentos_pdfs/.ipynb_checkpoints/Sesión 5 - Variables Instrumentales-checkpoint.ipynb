{
 "cells": [
  {
   "cell_type": "raw",
   "metadata": {},
   "source": [
    "---\n",
    "title: \"Monitoria Variables Instrumentales\"\n",
    "author: \"Juan C. Forero - Jhan Andrade - Germán C. Rodriguéz\"\n",
    "date: \"7/10/2020\"\n",
    "output: pdf_document\n",
    "citation_package: biblatex\n",
    "biblio-style: apa\n",
    "biblatexoptions: [backend=biber, maxbibnames=999]\n",
    "bibliography: bibliography.bib\n",
    "---"
   ]
  },
  {
   "cell_type": "code",
   "execution_count": 1,
   "metadata": {
    "name": "setup",
    "tags": [
     "remove_cell"
    ]
   },
   "outputs": [],
   "source": [
    "knitr::opts_chunk$set(echo = TRUE)"
   ]
  },
  {
   "cell_type": "markdown",
   "metadata": {},
   "source": [
    "\\tableofcontents\n",
    "\n",
    "> El presente documento fue creado utilizando R markdown. La idea es ilustrar los prinipales conceptos de variables instrumentales mediante el software R\n",
    "\n",
    "# Introducción \n",
    "\n",
    "## Teoría para el caso univariado\n",
    "\n",
    "El método de estimación por **Variables Instrumentales** nos permite resolver el problema de endogeneidad que pueda presentar algún regresor\\footnote{En el presente documento, una variable se va a considerar endogena si existe una correlación entre dicha varaible en cuestión y el error $\\varepsilon$}.\n",
    "\n",
    "Ahora bien, este método nos permite obtener estimadores consistentes\\footnote{Fijense que en el curso se hace un mayor enfásis en la consistencia de los estiamdores que en la insesgadez. Ello se debe a que requerir que los estiamdores sean insesgados puede ser una condición muy fuerte. No obstante, la consistencia es una propiedad que no es tan restrictiva y que es fundamental que tengan cualquier estimador que se desea utilizar en la práctica}. Este método de estimación está basado en encontrar un instrumento (*Z*) que cumpla las siguientes condiciones: \n",
    "\n",
    "- **Relevancia**: $cov(Z,X)\\neq 0$\\footnote{X sería el regresor que se considera endógeno y por ende es necesario el uso de un instrumento para corregir por ese problema de endogeneidad}\n",
    "- **Exogeneidad**: $cov (Z,\\varepsilon)) = 0$\n",
    "\n",
    "El **supuesto de relevancia** busca que el instrumento empleado *Z* tenga un alto grado de correlación con el regresor *X* que se considera endógeno. Entre mayor correlación entre el instrumento que se empleará y el regresor endógeno mejor. Diremos que un instrumento con un alto grado de correlación con el regresor es un instrumento fuerte para éste, de lo contrario diremos que es débil. El **supuesto de exogeneidad** requiere que el instrumento no tenga correlación con el error. \n",
    "\n",
    "Ahora bien, a pesar de que teóricamente es muy importante que los dos supuestos se cumplan para que las estimaciones por **VI** sean válidas, en la practica se tiene que solo el supuesto de relevancia se puede corroborar. Lo anterior, quiere decir que **no existen** pruebas estadísticas capaces de corroborar el supuesto de **exogeneidad**, la justificación en la práctica de dicho supuesto se hace desde la *teoría económica* o desde la *lógica del modelo* que justifique la exogeneidad del instrumento. \n",
    "\n",
    "Es importante tener en cuenta, que el método de variables instrumentales es bastante sencillo, sin embargo encontrar buenos instrumentos es la parte compleja del método. En la prática, un investigador que vaya emplear el método de variables instrumentales dedicará la mayor parte del tiempo a buscar y justificar porque su instrumento es adecuado para la estimaciónd dado que el cumplimiento de los dos supuestos mencioandos anteriormente es fundamental para una buena estimación por VI.\n",
    "\n",
    "## MC2E\n",
    "\n",
    "En la práctica, es muy usual emplear variables instrumentales mediante lo que se conoce como **Mínimos cuadrados en 2 etapas (MC2E)**.\n",
    "\n",
    "Para el ejemplo ilustrativo de *MC2E*\\footnote{Para justificar el método de MC2E se debe satisfacer las condiciones de orden y rango. La de orden requiere que haya al menos tantos instrumentos como regresores endógenas y la condición de rango es una condición más elaborada que se encuentra por ejemplo en el libro avanado de Wooldridge.}, nos basaremos en [@wooldridge2016introductory]\n",
    "\n",
    "Suponga que se tiene la siguiente ecuación estructural\\footnote{Recuerden que una ecuación estructural es aquella en la que la variable de interés se escribe tanto en los regresores endógenos como exógenos}: $y_1 = \\beta_0 + \\beta_1 y_2 + \\beta_2 z_1 + \\nu_1$ y suponga que además $y_2$ es una variable endógena con dos instrumentos $z_2$ y $z_3$. El método consiste en dos etapas en donde en cada etapa se hace una estimación por OLS.\n",
    "\n",
    "### Primera etapa\n",
    "\n",
    "En la primera etapa, hay que estimar por OLS la ecuación en forma reducida\\footnote{Recuerden que una ecuación en forma reducida es aquella en la que una variable endógena se escribe a partir de variables exógenas exclusivamente}: \n",
    "\n",
    "$$\n",
    "y_2 = \\pi_0 + \\pi_1 z_1 + \\pi_2 z_2 + \\pi_3 z_3 + \\nu_2\n",
    "$$\n",
    "Dónde para que las variables $Z_i$ sean exógenas se requiere que: $cov(z_1, \\nu_2) = cov(z_2, \\nu_2) = cov(z_3, \\nu_2) = 0$. \n",
    "\n",
    "Se busca que los instrumentos sean relevantes, es decir, que $\\pi_2 \\neq 0$ o $\\pi_3 \\neq 0$. Por tanto, de las siguientes hipótesis nulas: \n",
    "\n",
    "\\begin{align*}\n",
    "  H_0&: \\pi_2 = \\pi_3 = 0 \\\\\n",
    "  H_a&: \\pi_2 \\neq 0 \\quad o \\quad \\pi_3 \\neq 0 \\\\\n",
    "\\end{align*}\n",
    "\n",
    "Se emplea un *estadístico F* para realizar las pruebas de hipótesis anteriores y lo que se busca es rechazar la hipótesis nula a favor de la alternativa para corroborar relevancia. \n",
    "\n",
    "Luego, de mirar la relevancia de los instrumentos y justificar que los instrumentos son exógenos se procede a realizar la segunda etapa.\n",
    "\n",
    "### Segunda etapa\n",
    "\n",
    "Dados los resultados de la estimación, es decir $\\hat{y_2} = \\hat{\\pi_0} + \\hat{\\pi_1} z_1 + \\hat{\\pi_2} z_2 + \\hat{\\pi_3} z_3$, se reemplaza $y_2$ por $\\hat{y_2}$\\footnote{Recordar que en el ejemplo $y_2$ es el regresor endógeno} y se estima la ecuación estructural:\n",
    "$$\n",
    "y_1 = \\beta_0 + \\beta_1 \\hat{y_2} + \\beta_2 z_1 + \\nu_1\n",
    "$$\n",
    "por *OLS*\\footnote{Recordar que en el ejemplo $z_1$ no es un instrumento}. Los parámetros estimados por el procedimiento anterior, de dos etapas se le conoce como los *parámetros estimados por MC2E*. \n",
    "\n",
    "## Paquete para realizar variables instrumentales en R\n",
    "\n",
    "En R Studio instalaremos los siguientes paquetes para proceder a realizar el ejercicio de Variables Instrumentales. "
   ]
  },
  {
   "cell_type": "code",
   "execution_count": 2,
   "metadata": {},
   "outputs": [],
   "source": [
    "#install.packages(\"AER\") #Applied Econometrics with R for Instrumental Variables\n",
    "#install.packages(\"foreing\") #Para cargar datos con formato Stata\n",
    "#install.packages(\"stargazer\") #Para una presentación más estética de los resultados\n",
    "#install.packages(\"estimatr\") #Para hacer MC2E con errores robustos\n",
    "#install.packages(\"arm\") #Análisis de datos utilizando regresiones\n",
    "#install.packages(\"lmtest\")"
   ]
  },
  {
   "cell_type": "markdown",
   "metadata": {},
   "source": [
    "Cargamos los paquetes: "
   ]
  },
  {
   "cell_type": "code",
   "execution_count": 3,
   "metadata": {
    "echo": true,
    "message": false
   },
   "outputs": [
    {
     "name": "stderr",
     "output_type": "stream",
     "text": [
      "Loading required package: car\n",
      "\n",
      "Loading required package: carData\n",
      "\n",
      "Loading required package: lmtest\n",
      "\n",
      "Loading required package: zoo\n",
      "\n",
      "\n",
      "Attaching package: ‘zoo’\n",
      "\n",
      "\n",
      "The following objects are masked from ‘package:base’:\n",
      "\n",
      "    as.Date, as.Date.numeric\n",
      "\n",
      "\n",
      "Loading required package: sandwich\n",
      "\n",
      "Loading required package: survival\n",
      "\n",
      "\n",
      "Please cite as: \n",
      "\n",
      "\n",
      " Hlavac, Marek (2018). stargazer: Well-Formatted Regression and Summary Statistics Tables.\n",
      "\n",
      " R package version 5.2.2. https://CRAN.R-project.org/package=stargazer \n",
      "\n",
      "\n",
      "Loading required package: MASS\n",
      "\n",
      "Loading required package: Matrix\n",
      "\n",
      "Loading required package: lme4\n",
      "\n",
      "Registered S3 methods overwritten by 'lme4':\n",
      "  method                          from\n",
      "  cooks.distance.influence.merMod car \n",
      "  influence.merMod                car \n",
      "  dfbeta.influence.merMod         car \n",
      "  dfbetas.influence.merMod        car \n",
      "\n",
      "\n",
      "arm (Version 1.11-2, built: 2020-7-27)\n",
      "\n",
      "\n",
      "Working directory is /home/germankux/Documents/GitHub/semestre5/Scripts_monitoria_2020_2/Sesión 5 de Monitoria - Variables Instrumentales/1_documentos_pdfs\n",
      "\n",
      "\n",
      "\n",
      "Attaching package: ‘arm’\n",
      "\n",
      "\n",
      "The following object is masked from ‘package:car’:\n",
      "\n",
      "    logit\n",
      "\n",
      "\n",
      "── \u001b[1mAttaching packages\u001b[22m ─────────────────────────────────────── tidyverse 1.3.0 ──\n",
      "\n",
      "\u001b[32m✔\u001b[39m \u001b[34mggplot2\u001b[39m 3.3.2     \u001b[32m✔\u001b[39m \u001b[34mpurrr  \u001b[39m 0.3.4\n",
      "\u001b[32m✔\u001b[39m \u001b[34mtibble \u001b[39m 3.0.3     \u001b[32m✔\u001b[39m \u001b[34mdplyr  \u001b[39m 1.0.2\n",
      "\u001b[32m✔\u001b[39m \u001b[34mtidyr  \u001b[39m 1.1.2     \u001b[32m✔\u001b[39m \u001b[34mstringr\u001b[39m 1.4.0\n",
      "\u001b[32m✔\u001b[39m \u001b[34mreadr  \u001b[39m 1.3.1     \u001b[32m✔\u001b[39m \u001b[34mforcats\u001b[39m 0.5.0\n",
      "\n",
      "── \u001b[1mConflicts\u001b[22m ────────────────────────────────────────── tidyverse_conflicts() ──\n",
      "\u001b[31m✖\u001b[39m \u001b[34mtidyr\u001b[39m::\u001b[32mexpand()\u001b[39m masks \u001b[34mMatrix\u001b[39m::expand()\n",
      "\u001b[31m✖\u001b[39m \u001b[34mdplyr\u001b[39m::\u001b[32mfilter()\u001b[39m masks \u001b[34mstats\u001b[39m::filter()\n",
      "\u001b[31m✖\u001b[39m \u001b[34mdplyr\u001b[39m::\u001b[32mlag()\u001b[39m    masks \u001b[34mstats\u001b[39m::lag()\n",
      "\u001b[31m✖\u001b[39m \u001b[34mtidyr\u001b[39m::\u001b[32mpack()\u001b[39m   masks \u001b[34mMatrix\u001b[39m::pack()\n",
      "\u001b[31m✖\u001b[39m \u001b[34mdplyr\u001b[39m::\u001b[32mrecode()\u001b[39m masks \u001b[34mcar\u001b[39m::recode()\n",
      "\u001b[31m✖\u001b[39m \u001b[34mdplyr\u001b[39m::\u001b[32mselect()\u001b[39m masks \u001b[34mMASS\u001b[39m::select()\n",
      "\u001b[31m✖\u001b[39m \u001b[34mpurrr\u001b[39m::\u001b[32msome()\u001b[39m   masks \u001b[34mcar\u001b[39m::some()\n",
      "\u001b[31m✖\u001b[39m \u001b[34mtidyr\u001b[39m::\u001b[32munpack()\u001b[39m masks \u001b[34mMatrix\u001b[39m::unpack()\n",
      "\n"
     ]
    }
   ],
   "source": [
    "library(AER);library(foreign); library(stargazer); \n",
    "library(arm);library(lmtest);library(estimatr);library(tidyverse)"
   ]
  },
  {
   "cell_type": "markdown",
   "metadata": {},
   "source": [
    "- **AER**: Applied Econometrics with R for Instrumental Variables. Contiene la función *ivreg*\n",
    "- **foreing**: Para importar bases de datos tipo stata *dta*\n",
    "- **stargazer**: Para prestnación de resultados \n",
    "- **estimatr**: Para hacer MC2E con errores robustos. Contiene la función *iv_robust*\n",
    "- **arm**: Para análisis de datos utilizando regresiones\n",
    "- **lmtest**: Conjutntos de test para modelos de estimación lineales \n",
    "\n",
    "# Ejemplo Univariado (un solo instrumento) (Para el salario determiando por la educación)"
   ]
  },
  {
   "cell_type": "code",
   "execution_count": 4,
   "metadata": {},
   "outputs": [],
   "source": [
    "#Cargamos la base de datos. \n",
    "data=read.dta(\"http://fmwww.bc.edu/ec-p/data/wooldridge/mroz.dta\")"
   ]
  },
  {
   "cell_type": "markdown",
   "metadata": {
    "lines_to_next_cell": 0
   },
   "source": [
    "La estructura de datos es de corte transversal y corresponde a un data.frame de 753 para 22 variables:"
   ]
  },
  {
   "cell_type": "code",
   "execution_count": 5,
   "metadata": {
    "cache": true
   },
   "outputs": [
    {
     "name": "stdout",
     "output_type": "stream",
     "text": [
      "Rows: 753\n",
      "Columns: 22\n",
      "$ inlf     \u001b[3m\u001b[38;5;246m<dbl>\u001b[39m\u001b[23m 1, 1, 1, 1, 1, 1, 1, 1, 1, 1, 1, 1, 1, 1, 1, 1, 1, 1, 1, 1, …\n",
      "$ hours    \u001b[3m\u001b[38;5;246m<dbl>\u001b[39m\u001b[23m 1610, 1656, 1980, 456, 1568, 2032, 1440, 1020, 1458, 1600, 1…\n",
      "$ kidslt6  \u001b[3m\u001b[38;5;246m<dbl>\u001b[39m\u001b[23m 1, 0, 1, 0, 1, 0, 0, 0, 0, 0, 0, 0, 1, 0, 0, 0, 0, 0, 0, 0, …\n",
      "$ kidsge6  \u001b[3m\u001b[38;5;246m<dbl>\u001b[39m\u001b[23m 0, 2, 3, 3, 2, 0, 2, 0, 2, 2, 1, 1, 2, 2, 1, 3, 2, 5, 0, 4, …\n",
      "$ age      \u001b[3m\u001b[38;5;246m<dbl>\u001b[39m\u001b[23m 32, 30, 35, 34, 31, 54, 37, 54, 48, 39, 33, 42, 30, 43, 43, …\n",
      "$ educ     \u001b[3m\u001b[38;5;246m<dbl>\u001b[39m\u001b[23m 12, 12, 12, 12, 14, 12, 16, 12, 12, 12, 12, 11, 12, 12, 10, …\n",
      "$ wage     \u001b[3m\u001b[38;5;246m<dbl>\u001b[39m\u001b[23m 3.3540, 1.3889, 4.5455, 1.0965, 4.5918, 4.7421, 8.3333, 7.84…\n",
      "$ repwage  \u001b[3m\u001b[38;5;246m<dbl>\u001b[39m\u001b[23m 2.65, 2.65, 4.04, 3.25, 3.60, 4.70, 5.95, 9.98, 0.00, 4.15, …\n",
      "$ hushrs   \u001b[3m\u001b[38;5;246m<dbl>\u001b[39m\u001b[23m 2708, 2310, 3072, 1920, 2000, 1040, 2670, 4120, 1995, 2100, …\n",
      "$ husage   \u001b[3m\u001b[38;5;246m<dbl>\u001b[39m\u001b[23m 34, 30, 40, 53, 32, 57, 37, 53, 52, 43, 34, 47, 33, 46, 45, …\n",
      "$ huseduc  \u001b[3m\u001b[38;5;246m<dbl>\u001b[39m\u001b[23m 12, 9, 12, 10, 12, 11, 12, 8, 4, 12, 12, 14, 16, 12, 17, 12,…\n",
      "$ huswage  \u001b[3m\u001b[38;5;246m<dbl>\u001b[39m\u001b[23m 4.0288, 8.4416, 3.5807, 3.5417, 10.0000, 6.7106, 3.4277, 2.5…\n",
      "$ faminc   \u001b[3m\u001b[38;5;246m<dbl>\u001b[39m\u001b[23m 16310, 21800, 21040, 7300, 27300, 19495, 21152, 18900, 20405…\n",
      "$ mtr      \u001b[3m\u001b[38;5;246m<dbl>\u001b[39m\u001b[23m 0.7215, 0.6615, 0.6915, 0.7815, 0.6215, 0.6915, 0.6915, 0.69…\n",
      "$ motheduc \u001b[3m\u001b[38;5;246m<dbl>\u001b[39m\u001b[23m 12, 7, 12, 7, 12, 14, 14, 3, 7, 7, 12, 14, 16, 10, 7, 16, 10…\n",
      "$ fatheduc \u001b[3m\u001b[38;5;246m<dbl>\u001b[39m\u001b[23m 7, 7, 7, 7, 14, 7, 7, 3, 7, 7, 3, 7, 16, 10, 7, 10, 7, 12, 7…\n",
      "$ unem     \u001b[3m\u001b[38;5;246m<dbl>\u001b[39m\u001b[23m 5.0, 11.0, 5.0, 5.0, 9.5, 7.5, 5.0, 5.0, 3.0, 5.0, 5.0, 5.0,…\n",
      "$ city     \u001b[3m\u001b[38;5;246m<dbl>\u001b[39m\u001b[23m 0, 1, 0, 0, 1, 1, 0, 0, 0, 0, 0, 0, 0, 1, 1, 1, 1, 1, 1, 0, …\n",
      "$ exper    \u001b[3m\u001b[38;5;246m<dbl>\u001b[39m\u001b[23m 14, 5, 15, 6, 7, 33, 11, 35, 24, 21, 15, 14, 0, 14, 6, 9, 20…\n",
      "$ nwifeinc \u001b[3m\u001b[38;5;246m<dbl>\u001b[39m\u001b[23m 10.910060, 19.499981, 12.039910, 6.799996, 20.100060, 9.8590…\n",
      "$ lwage    \u001b[3m\u001b[38;5;246m<dbl>\u001b[39m\u001b[23m 1.2101541, 0.3285121, 1.5141380, 0.0921233, 1.5242720, 1.556…\n",
      "$ expersq  \u001b[3m\u001b[38;5;246m<dbl>\u001b[39m\u001b[23m 196, 25, 225, 36, 49, 1089, 121, 1225, 576, 441, 225, 196, 0…\n"
     ]
    }
   ],
   "source": [
    "glimpse(data)"
   ]
  },
  {
   "cell_type": "markdown",
   "metadata": {},
   "source": [
    "Las principales variables son: \n",
    "\n",
    "- inlf: =1 if in lab frce, 1975;\n",
    "- hours: hours worked, 1975;\n",
    "- kidslt6: kids < 6 years kidsge6: # kids 6-18;\n",
    "- age: woman's age in yrs;\n",
    "- educ: years of schooling;\n",
    "- wage: est. wage from earn, hrs;\n",
    "- repwage: rep. wage at interview in 1976;\n",
    "- hushrs: hours worked by husband, 1975;\n",
    "- husage: husband's age;\n",
    "- huseduc: husband's years of schooling;\n",
    "- huswage: husband's hourly wage, 1975;\n",
    "- faminc: family income, 1975;\n",
    "- mtr: fed. marg. tax rte facing woman;\n",
    "- motheduc: mother's years of schooling;\n",
    "- fatheduc: father's years of schooling;\n",
    "- unem: unem. rate in county of resid;\n",
    "- city: =1 if live in SMSA;\n",
    "- exper: actual labor mkt exper;\n",
    "- nwifeinc: (faminc - wage*hours)/1000;\n",
    "- lwage: log(wage);\n",
    "- expersq: exper^2\n",
    "\n",
    "Ahora vamos a eliminar las observaciones que no tienen salario: !is.na(wage)"
   ]
  },
  {
   "cell_type": "code",
   "execution_count": 6,
   "metadata": {},
   "outputs": [],
   "source": [
    "data.VI <- subset(data,!is.na(wage))\n",
    "attach(data.VI)"
   ]
  },
  {
   "cell_type": "markdown",
   "metadata": {},
   "source": [
    "Se busca explicar la variación de salario en función de la educación de las personas. No obstante, es de esperarse que la educación sea una variable endógena dado que dependerá de factores inobservables de las personas como su habilidad innata u otros factores no observables que se recogen en el error. \n",
    "\n",
    "Por tanto, utilizando Mínimos Cuadrados Ordinarios (MCO), sin ningun consideración adicional, se espera que en este procedimiento existan problemas de endogeneidad: "
   ]
  },
  {
   "cell_type": "code",
   "execution_count": 7,
   "metadata": {
    "cache": true
   },
   "outputs": [
    {
     "data": {
      "text/plain": [
       "\n",
       "Call:\n",
       "lm(formula = log(wage) ~ educ, data = data.VI)\n",
       "\n",
       "Residuals:\n",
       "     Min       1Q   Median       3Q      Max \n",
       "-3.10256 -0.31473  0.06434  0.40081  2.10029 \n",
       "\n",
       "Coefficients:\n",
       "            Estimate Std. Error t value Pr(>|t|)    \n",
       "(Intercept)  -0.1852     0.1852  -1.000    0.318    \n",
       "educ          0.1086     0.0144   7.545 2.76e-13 ***\n",
       "---\n",
       "Signif. codes:  0 ‘***’ 0.001 ‘**’ 0.01 ‘*’ 0.05 ‘.’ 0.1 ‘ ’ 1\n",
       "\n",
       "Residual standard error: 0.68 on 426 degrees of freedom\n",
       "Multiple R-squared:  0.1179,\tAdjusted R-squared:  0.1158 \n",
       "F-statistic: 56.93 on 1 and 426 DF,  p-value: 2.761e-13\n"
      ]
     },
     "metadata": {},
     "output_type": "display_data"
    }
   ],
   "source": [
    "R.MCO = lm(log(wage)~ educ, data=data.VI)\n",
    "summary(R.MCO)"
   ]
  },
  {
   "cell_type": "markdown",
   "metadata": {},
   "source": [
    "Usaremos el método de variables instrumentales, de tal manera que la educación del padre *fatheduc* será un instrumento para *educ*. Pues, es de esperarse que la educación de los padres determine la educación de los hijos. Entre más años de escolaridad tengan los padres de las personas, los hijos tengan un mayor grado de escolaridad. Es decir, una persona cuyos padres tienen un nivel de educación básica-primaria posiblemente tenga un nivel de escolaridad menor que el de una persona cuyos padres tienen doctorado. \n",
    "\n",
    "Empezaremos calculando el coeficiente $\\beta_1$ de forma manual \\footnote{Acá se está empleando la fórmula de variable instrumental cuándo solo hay un instrumento}:\n",
    " \n",
    " $$\\frac{cov(y,z)}{cov(x,z)}$$"
   ]
  },
  {
   "cell_type": "code",
   "execution_count": 8,
   "metadata": {
    "cache": true
   },
   "outputs": [
    {
     "data": {
      "text/html": [
       "0.059173481251293"
      ],
      "text/latex": [
       "0.059173481251293"
      ],
      "text/markdown": [
       "0.059173481251293"
      ],
      "text/plain": [
       "[1] 0.05917348"
      ]
     },
     "metadata": {},
     "output_type": "display_data"
    }
   ],
   "source": [
    "Beta = with(data.VI,cov(log(wage),fatheduc)/cov(educ,fatheduc)); Beta"
   ]
  },
  {
   "cell_type": "markdown",
   "metadata": {},
   "source": [
    "## Mínimos Cuadrados en 2 Etapas\n",
    "\n",
    "### Primera etapa \n",
    "\n",
    "En esta etapa se deben incluir como controles todas las variables exógenas del modelo. También debe evaluarse la relevancia del instrumento. "
   ]
  },
  {
   "cell_type": "code",
   "execution_count": 9,
   "metadata": {
    "cache": true
   },
   "outputs": [
    {
     "data": {
      "text/plain": [
       "\n",
       "Call:\n",
       "lm(formula = educ ~ fatheduc, data = data.VI)\n",
       "\n",
       "Residuals:\n",
       "    Min      1Q  Median      3Q     Max \n",
       "-8.4704 -1.1231 -0.1231  0.9546  5.9546 \n",
       "\n",
       "Coefficients:\n",
       "            Estimate Std. Error t value Pr(>|t|)    \n",
       "(Intercept) 10.23705    0.27594  37.099   <2e-16 ***\n",
       "fatheduc     0.26944    0.02859   9.426   <2e-16 ***\n",
       "---\n",
       "Signif. codes:  0 ‘***’ 0.001 ‘**’ 0.01 ‘*’ 0.05 ‘.’ 0.1 ‘ ’ 1\n",
       "\n",
       "Residual standard error: 2.081 on 426 degrees of freedom\n",
       "Multiple R-squared:  0.1726,\tAdjusted R-squared:  0.1706 \n",
       "F-statistic: 88.84 on 1 and 426 DF,  p-value: < 2.2e-16\n"
      ]
     },
     "metadata": {},
     "output_type": "display_data"
    }
   ],
   "source": [
    "Reg.aux=lm(educ ~ fatheduc, data = data.VI); summary(Reg.aux)"
   ]
  },
  {
   "cell_type": "markdown",
   "metadata": {},
   "source": [
    "De lo anterior, vemos que **nuestro instrumento *fatheduc* es estadísticamente significativo y por lo tanto se puede concluir que se cumple el supuesto de relevancia**\n",
    "\n",
    "Calculamos los valores ajustados de la regresión de la primera etapa para la variable *educ*, que harán de instrumento en la segunda etapa."
   ]
  },
  {
   "cell_type": "code",
   "execution_count": 10,
   "metadata": {
    "cache": true
   },
   "outputs": [],
   "source": [
    "educ.fitted = fitted(Reg.aux)"
   ]
  },
  {
   "cell_type": "markdown",
   "metadata": {},
   "source": [
    "### Segunda etapa \n",
    "\n",
    "Incluimos los valores ajustados de educ que se obtuvieron de la primera etapa: "
   ]
  },
  {
   "cell_type": "code",
   "execution_count": 11,
   "metadata": {
    "cache": true
   },
   "outputs": [
    {
     "data": {
      "text/plain": [
       "\n",
       "Call:\n",
       "lm(formula = log(wage) ~ educ.fitted, data = data.VI)\n",
       "\n",
       "Residuals:\n",
       "    Min      1Q  Median      3Q     Max \n",
       "-3.2126 -0.3763  0.0563  0.4173  2.0604 \n",
       "\n",
       "Coefficients:\n",
       "            Estimate Std. Error t value Pr(>|t|)\n",
       "(Intercept)  0.44110    0.46711   0.944    0.346\n",
       "educ.fitted  0.05917    0.03680   1.608    0.109\n",
       "\n",
       "Residual standard error: 0.7219 on 426 degrees of freedom\n",
       "Multiple R-squared:  0.006034,\tAdjusted R-squared:  0.003701 \n",
       "F-statistic: 2.586 on 1 and 426 DF,  p-value: 0.1086\n"
      ]
     },
     "metadata": {},
     "output_type": "display_data"
    }
   ],
   "source": [
    "Reg.VI = lm(log(wage)~educ.fitted, data=data.VI) \n",
    "summary(Reg.VI)"
   ]
  },
  {
   "cell_type": "markdown",
   "metadata": {},
   "source": [
    "## Usando el comando *ivreg* \n",
    "\n",
    "El comando ***ivreg*** del paquete **AER** nos permite realizar el procedimiento de Variables instrumentales sin necesidad de hacer etapa por etapa. En otras palabras, este comando nos ahorra lineas de código. "
   ]
  },
  {
   "cell_type": "code",
   "execution_count": 12,
   "metadata": {
    "cache": true
   },
   "outputs": [
    {
     "data": {
      "text/plain": [
       "\n",
       "Call:\n",
       "ivreg(formula = log(wage) ~ educ | fatheduc, data = data.VI)\n",
       "\n",
       "Residuals:\n",
       "    Min      1Q  Median      3Q     Max \n",
       "-3.0870 -0.3393  0.0525  0.4042  2.0677 \n",
       "\n",
       "Coefficients:\n",
       "            Estimate Std. Error t value Pr(>|t|)  \n",
       "(Intercept)  0.44110    0.44610   0.989   0.3233  \n",
       "educ         0.05917    0.03514   1.684   0.0929 .\n",
       "---\n",
       "Signif. codes:  0 ‘***’ 0.001 ‘**’ 0.01 ‘*’ 0.05 ‘.’ 0.1 ‘ ’ 1\n",
       "\n",
       "Residual standard error: 0.6894 on 426 degrees of freedom\n",
       "Multiple R-Squared: 0.09344,\tAdjusted R-squared: 0.09131 \n",
       "Wald test: 2.835 on 1 and 426 DF,  p-value: 0.09294 \n"
      ]
     },
     "metadata": {},
     "output_type": "display_data"
    }
   ],
   "source": [
    "R.VI = ivreg(log(wage) ~ educ| fatheduc , data=data.VI); summary(R.VI)"
   ]
  },
  {
   "cell_type": "markdown",
   "metadata": {},
   "source": [
    "La estructura del código consiste en: \n",
    "\n",
    "ivreg(Variable Explicada ~ regresores del modelo (incluyendo regresores endógenos y exógenos) **|** Variables exógenas + instrumentos)\n",
    "\n",
    "## Código *iv_robust* \n",
    "\n",
    "El comando ***iv_robust*** del paquete *estimatr* incorpora los errores estándar robustos. La estructura de código es la misma que la de *ivreg*. La principal diferencia es que con *iv_robust* el R^2 se corrige y es posible hacer una adecuada interpretación de este\\footnote{Por lo anterior, se recomienda que utilizen \\textbf{iv\\_robuts} a la hora de realizar estiamciones por *MC2E*}."
   ]
  },
  {
   "cell_type": "code",
   "execution_count": 13,
   "metadata": {},
   "outputs": [
    {
     "data": {
      "text/plain": [
       "\n",
       "Call:\n",
       "iv_robust(formula = log(wage) ~ educ | fatheduc, data = data.VI)\n",
       "\n",
       "Standard error type:  HC2 \n",
       "\n",
       "Coefficients:\n",
       "            Estimate Std. Error t value Pr(>|t|) CI Lower CI Upper  DF\n",
       "(Intercept)  0.44110    0.46651  0.9455   0.3449 -0.47584   1.3581 426\n",
       "educ         0.05917    0.03712  1.5940   0.1117 -0.01379   0.1321 426\n",
       "\n",
       "Multiple R-squared:  0.09344 ,\tAdjusted R-squared:  0.09131 \n",
       "F-statistic: 2.541 on 1 and 426 DF,  p-value: 0.1117"
      ]
     },
     "metadata": {},
     "output_type": "display_data"
    }
   ],
   "source": [
    "R.VI.Robust = iv_robust(log(wage) ~ educ| fatheduc , data=data.VI);summary(R.VI.Robust)"
   ]
  },
  {
   "cell_type": "markdown",
   "metadata": {},
   "source": [
    "Presentando los resultados mediante el comando stargazer\\footnote{Fijense que una de las principales débilidades del comando \\textbf{iv\\_robust} es que no se puede usar directamente en el stargazer.}. La tabla generada en latex por el paquete stargazer es: "
   ]
  },
  {
   "cell_type": "code",
   "execution_count": 14,
   "metadata": {
    "cache": true,
    "tags": [
     "remove_input",
     "remove_cell"
    ]
   },
   "outputs": [
    {
     "name": "stdout",
     "output_type": "stream",
     "text": [
      "\n",
      "% Table created by stargazer v.5.2.2 by Marek Hlavac, Harvard University. E-mail: hlavac at fas.harvard.edu\n",
      "% Date and time: mié, oct 07, 2020 - 13:13:21\n",
      "\\begin{table}[!htbp] \\centering \n",
      "  \\caption{} \n",
      "  \\label{} \n",
      "\\begin{tabular}{@{\\extracolsep{5pt}}lccc} \n",
      "\\\\[-1.8ex]\\hline \n",
      "\\hline \\\\[-1.8ex] \n",
      "\\\\[-1.8ex] & \\multicolumn{3}{c}{log(wage)} \\\\ \n",
      " & MCO & MC2E & IVREG \\\\ \n",
      "\\\\[-1.8ex] & (1) & (2) & (3)\\\\ \n",
      "\\hline \\\\[-1.8ex] \n",
      " educ & 0.109$^{***}$ &  &  \\\\ \n",
      "  & (0.014) &  &  \\\\ \n",
      "  & & & \\\\ \n",
      " educ.fitted &  & 0.059 & 0.059 \\\\ \n",
      "  &  & (0.037) & (0.037) \\\\ \n",
      "  & & & \\\\ \n",
      " Constant & $-$0.185 & 0.441 & 0.441 \\\\ \n",
      "  & (0.185) & (0.467) & (0.467) \\\\ \n",
      "  & & & \\\\ \n",
      "Observations & 428 & 428 & 428 \\\\ \n",
      "R$^{2}$ & 0.118 & 0.006 & 0.006 \\\\ \n",
      "Adjusted R$^{2}$ & 0.116 & 0.004 & 0.004 \\\\ \n",
      "Residual Std. Error (df = 426) & 0.680 & 0.722 & 0.722 \\\\ \n",
      "F Statistic (df = 1; 426) & 56.929$^{***}$ & 2.586 & 2.586 \\\\ \n",
      "\\hline \\\\[-1.8ex] \n",
      "\\textit{Notes:} & \\multicolumn{3}{l}{$^{***}$Significant at the 1 percent level.} \\\\ \n",
      " & \\multicolumn{3}{l}{$^{**}$Significant at the 5 percent level.} \\\\ \n",
      " & \\multicolumn{3}{l}{$^{*}$Significant at the 10 percent level.} \\\\ \n",
      "\\end{tabular} \n",
      "\\end{table} \n"
     ]
    }
   ],
   "source": [
    "stargazer(R.MCO,Reg.VI,Reg.VI, column.labels=c(\"MCO\",\"MC2E\", \"IVREG\"), style = \"AER\")"
   ]
  },
  {
   "cell_type": "markdown",
   "metadata": {},
   "source": [
    "\\begin{table}[!htbp] \\centering \n",
    "  \\caption{Tabla de regresiones para el ejemplo univariado} \n",
    "  \\label{} \n",
    "\\begin{tabular}{@{\\extracolsep{5pt}}lccc} \n",
    "\\\\[-1.8ex]\\hline \n",
    "\\hline \\\\[-1.8ex] \n",
    " & \\multicolumn{3}{c}{\\textit{Dependent variable:}} \\\\ \n",
    "\\cline{2-4} \n",
    "\\\\[-1.8ex] & \\multicolumn{3}{c}{log(wage)} \\\\ \n",
    " & MCO & MC2E & IVREG \\\\ \n",
    "\\\\[-1.8ex] & (1) & (2) & (3)\\\\ \n",
    "\\hline \\\\[-1.8ex] \n",
    " educ & 0.109$^{***}$ &  &  \\\\ \n",
    "  & (0.014) &  &  \\\\ \n",
    "  & & & \\\\ \n",
    " educ.fitted &  & 0.059 & 0.059 \\\\ \n",
    "  &  & (0.037) & (0.037) \\\\ \n",
    "  & & & \\\\ \n",
    " Constant & $-$0.185 & 0.441 & 0.441 \\\\ \n",
    "  & (0.185) & (0.467) & (0.467) \\\\ \n",
    "  & & & \\\\ \n",
    "\\hline \\\\[-1.8ex] \n",
    "Observations & 428 & 428 & 428 \\\\ \n",
    "R$^{2}$ & 0.118 & 0.006 & 0.006 \\\\ \n",
    "Adjusted R$^{2}$ & 0.116 & 0.004 & 0.004 \\\\ \n",
    "Residual Std. Error (df = 426) & 0.680 & 0.722 & 0.722 \\\\ \n",
    "F Statistic (df = 1; 426) & 56.929$^{***}$ & 2.586 & 2.586 \\\\ \n",
    "\\hline \n",
    "\\hline \\\\[-1.8ex] \n",
    "\\textit{Note:}  & \\multicolumn{3}{r}{$^{*}$p$<$0.1; $^{**}$p$<$0.05; $^{***}$p$<$0.01} \\\\ \n",
    "\\end{tabular} \n",
    "\\end{table} \n",
    "\n",
    "Llegados a este punto, se pueden dar cuenta que para el caso univariado la estimación manual por covarianzas, Mínimos Cuadrados Ordinarios en 2 etapas, IVREG y IV_ROBUST nos llevan al mismo coeficiente. (0.059)\n",
    "\n",
    "# Ejemplo multivariado(Dos instrumentos) (Para el salario determiando por la educación)\n",
    "\n",
    "Estimaremos la regresión MCO que originalmente debe tener problemas de endogenidad\\footnote{Por la misma razón que en el ejemplo anterio, muy seguramente la variable educación está correlacionada con el error (i.e. con factores inobservables)}. "
   ]
  },
  {
   "cell_type": "code",
   "execution_count": 15,
   "metadata": {
    "cache": true
   },
   "outputs": [
    {
     "data": {
      "text/plain": [
       "\n",
       "Call:\n",
       "lm(formula = log(wage) ~ educ + exper + I(exper^2) + city, data = data.VI)\n",
       "\n",
       "Residuals:\n",
       "     Min       1Q   Median       3Q      Max \n",
       "-3.10084 -0.32453  0.05292  0.36261  2.34806 \n",
       "\n",
       "Coefficients:\n",
       "              Estimate Std. Error t value Pr(>|t|)    \n",
       "(Intercept) -0.5308476  0.1990253  -2.667  0.00794 ** \n",
       "educ         0.1057097  0.0143280   7.378 8.58e-13 ***\n",
       "exper        0.0410584  0.0131963   3.111  0.00199 ** \n",
       "I(exper^2)  -0.0007973  0.0003938  -2.025  0.04352 *  \n",
       "city         0.0542225  0.0680903   0.796  0.42629    \n",
       "---\n",
       "Signif. codes:  0 ‘***’ 0.001 ‘**’ 0.01 ‘*’ 0.05 ‘.’ 0.1 ‘ ’ 1\n",
       "\n",
       "Residual standard error: 0.6667 on 423 degrees of freedom\n",
       "Multiple R-squared:  0.1581,\tAdjusted R-squared:  0.1501 \n",
       "F-statistic: 19.86 on 4 and 423 DF,  p-value: 5.389e-15\n"
      ]
     },
     "metadata": {},
     "output_type": "display_data"
    }
   ],
   "source": [
    "Reg.MCO = lm(log(wage)~educ+exper+I(exper^2)+city, data=data.VI)\n",
    "summary(Reg.MCO)"
   ]
  },
  {
   "cell_type": "markdown",
   "metadata": {},
   "source": [
    "Al igual que con el ejemplo univariado, es de esperarse que la educación sea endógena en la regresión. Para resolver este problema tomaremos la ecuación del padre (*fatheduc*) y la educación de la madre (*motheduc*) como instrumentos para *educ*\\footnote{Fijense que se puede tener más de un instrumento para la misma variable endógena pero al menos se necesita un instrumento, lo anterior dado por la condción de orden para \\textit{MC2E}}. \n",
    "\n",
    "Vamos a realizar un análisis preliliminar la relevancia de los instrumentos, de tal manera que la covarianza entre *educ* y el instrumento debe ser diferente de cero. "
   ]
  },
  {
   "cell_type": "code",
   "execution_count": 16,
   "metadata": {
    "cache": true
   },
   "outputs": [
    {
     "data": {
      "text/html": [
       "0.387019783964563"
      ],
      "text/latex": [
       "0.387019783964563"
      ],
      "text/markdown": [
       "0.387019783964563"
      ],
      "text/plain": [
       "[1] 0.3870198"
      ]
     },
     "metadata": {},
     "output_type": "display_data"
    },
    {
     "data": {
      "text/html": [
       "0.415403049154394"
      ],
      "text/latex": [
       "0.415403049154394"
      ],
      "text/markdown": [
       "0.415403049154394"
      ],
      "text/plain": [
       "[1] 0.415403"
      ]
     },
     "metadata": {},
     "output_type": "display_data"
    }
   ],
   "source": [
    "cor(educ,motheduc)\n",
    "cor(educ,fatheduc) "
   ]
  },
  {
   "cell_type": "markdown",
   "metadata": {},
   "source": [
    "## Mínimos cuadrados en 2 etapas \n",
    "### Primera etapa \n",
    "\n",
    "Recuerden que en esta etapa se hace la regresión de la variable endógena (*educ*) en función de las exógenas y los instrumentos. "
   ]
  },
  {
   "cell_type": "code",
   "execution_count": 17,
   "metadata": {
    "cache": true
   },
   "outputs": [],
   "source": [
    "stage1 <- lm(educ~exper+I(exper^2)+city+motheduc+fatheduc, data=data.VI)"
   ]
  },
  {
   "cell_type": "markdown",
   "metadata": {},
   "source": [
    "### Segunda etapa"
   ]
  },
  {
   "cell_type": "code",
   "execution_count": 18,
   "metadata": {
    "cache": true
   },
   "outputs": [
    {
     "data": {
      "text/plain": [
       "\n",
       "Call:\n",
       "lm(formula = log(wage) ~ fitted(stage1) + exper + I(exper^2) + \n",
       "    city, data = data.VI)\n",
       "\n",
       "Residuals:\n",
       "     Min       1Q   Median       3Q      Max \n",
       "-3.08238 -0.34886  0.03594  0.37694  2.31829 \n",
       "\n",
       "Coefficients:\n",
       "                 Estimate Std. Error t value Pr(>|t|)   \n",
       "(Intercept)     0.0723140  0.4221131   0.171   0.8641   \n",
       "fitted(stage1)  0.0552272  0.0341642   1.617   0.1067   \n",
       "exper           0.0434902  0.0140541   3.094   0.0021 **\n",
       "I(exper^2)     -0.0008816  0.0004202  -2.098   0.0365 * \n",
       "city            0.0916476  0.0756022   1.212   0.2261   \n",
       "---\n",
       "Signif. codes:  0 ‘***’ 0.001 ‘**’ 0.01 ‘*’ 0.05 ‘.’ 0.1 ‘ ’ 1\n",
       "\n",
       "Residual standard error: 0.7061 on 423 degrees of freedom\n",
       "Multiple R-squared:  0.05558,\tAdjusted R-squared:  0.04665 \n",
       "F-statistic: 6.223 on 4 and 423 DF,  p-value: 7.135e-05\n"
      ]
     },
     "metadata": {},
     "output_type": "display_data"
    }
   ],
   "source": [
    "stage2<-lm(log(wage)~fitted(stage1)+exper+I(exper^2)+city, data=data.VI)\n",
    "summary(stage2)"
   ]
  },
  {
   "cell_type": "markdown",
   "metadata": {},
   "source": [
    "## Ivreg \n",
    "\n",
    "ivreg(Variable Explicada ~ regresores del modelo (incluyendo regresores endógenos y exógenos) **|** Variables exógenas + instrumentos, data=\"...\")\n",
    "\n",
    "**OJO**: recuerden que la forma en cómo funciona el comando *ivreg* es: ivreg(Variable Explicada ~ regresores del modelo (incluyendo regresores endógenos y exógenos) **|** Variables exógenas + instrumentos, data=\"...\")\\footnote{Adicionalmente es importante que tengan en cuenta que \"|\" no es una L ni una I, es una raya vertical que por lo general se encuentra en la esquina superior izquierda de los teclados (debajo del esc). La barra vertical nos ayudará a indicarle al código cuales son nuestras variables exógenas y cuál es la endógena.}"
   ]
  },
  {
   "cell_type": "code",
   "execution_count": 19,
   "metadata": {
    "cache": true
   },
   "outputs": [
    {
     "data": {
      "text/plain": [
       "\n",
       "Call:\n",
       "ivreg(formula = log(wage) ~ educ + exper + I(exper^2) + city | \n",
       "    motheduc + fatheduc + exper + I(exper^2) + city, data = data.VI)\n",
       "\n",
       "Residuals:\n",
       "     Min       1Q   Median       3Q      Max \n",
       "-3.05056 -0.33418  0.04927  0.35824  2.30873 \n",
       "\n",
       "Coefficients:\n",
       "              Estimate Std. Error t value Pr(>|t|)   \n",
       "(Intercept)  0.0723140  0.4043536   0.179  0.85815   \n",
       "educ         0.0552272  0.0327268   1.688  0.09224 . \n",
       "exper        0.0434902  0.0134629   3.230  0.00133 **\n",
       "I(exper^2)  -0.0008816  0.0004025  -2.190  0.02906 * \n",
       "city         0.0916476  0.0724214   1.265  0.20640   \n",
       "---\n",
       "Signif. codes:  0 ‘***’ 0.001 ‘**’ 0.01 ‘*’ 0.05 ‘.’ 0.1 ‘ ’ 1\n",
       "\n",
       "Residual standard error: 0.6764 on 423 degrees of freedom\n",
       "Multiple R-Squared: 0.1334,\tAdjusted R-squared: 0.1252 \n",
       "Wald test: 6.782 on 4 and 423 DF,  p-value: 2.684e-05 \n"
      ]
     },
     "metadata": {},
     "output_type": "display_data"
    }
   ],
   "source": [
    "aut.MC2E<-ivreg(log(wage)~educ+exper+I(exper^2)+\n",
    "                  city|motheduc+fatheduc+exper+I(exper^2) + city , data=data.VI)\n",
    "summary(aut.MC2E)"
   ]
  },
  {
   "cell_type": "markdown",
   "metadata": {},
   "source": [
    "## iv_robust \n",
    "\n",
    "El comando *iv_robust*\\footnote{El método que utiliza por default iv\\_robuts para corregir por errores robustos es el método que se conoce como \\textbf{HC2}, como lo pueden observar en el summary} funciona con la misma sintaxis que *ivreg*, tienen la misma estructura de código. "
   ]
  },
  {
   "cell_type": "code",
   "execution_count": 20,
   "metadata": {
    "cache": true
   },
   "outputs": [
    {
     "data": {
      "text/plain": [
       "\n",
       "Call:\n",
       "iv_robust(formula = log(wage) ~ educ + exper + I(exper^2) + city | \n",
       "    motheduc + fatheduc + exper + I(exper^2) + city, data = data.VI)\n",
       "\n",
       "Standard error type:  HC2 \n",
       "\n",
       "Coefficients:\n",
       "              Estimate Std. Error t value Pr(>|t|) CI Lower   CI Upper  DF\n",
       "(Intercept)  0.0723140  0.4337123  0.1667 0.867660 -0.78019  0.9248137 423\n",
       "educ         0.0552272  0.0343161  1.6094 0.108282 -0.01222  0.1226785 423\n",
       "exper        0.0434902  0.0157510  2.7611 0.006011  0.01253  0.0744503 423\n",
       "I(exper^2)  -0.0008816  0.0004369 -2.0180 0.044221 -0.00174 -0.0000229 423\n",
       "city         0.0916476  0.0691717  1.3249 0.185910 -0.04432  0.2276106 423\n",
       "\n",
       "Multiple R-squared:  0.1334 ,\tAdjusted R-squared:  0.1252 \n",
       "F-statistic:  5.66 on 4 and 423 DF,  p-value: 0.0001909"
      ]
     },
     "metadata": {},
     "output_type": "display_data"
    }
   ],
   "source": [
    "MC2E.Robusto <- iv_robust(log(wage)~educ+exper+I(exper^2)+\n",
    "                            city|motheduc+fatheduc+exper+I(exper^2) + city , data=data.VI)\n",
    "summary(MC2E.Robusto)"
   ]
  },
  {
   "cell_type": "markdown",
   "metadata": {},
   "source": [
    "Presentación de resultados\\footnote{Nuevamente, se resalta que a pesar de que se sugiere emplear iv\\_robuts para hacer las estiamciones de MC2E se tiene que no es posible incluir los resultados de dicho estimación directamente en stargazer}:"
   ]
  },
  {
   "cell_type": "code",
   "execution_count": 21,
   "metadata": {
    "cache": true,
    "tags": [
     "remove_input",
     "remove_cell"
    ]
   },
   "outputs": [
    {
     "name": "stdout",
     "output_type": "stream",
     "text": [
      "\n",
      "% Table created by stargazer v.5.2.2 by Marek Hlavac, Harvard University. E-mail: hlavac at fas.harvard.edu\n",
      "% Date and time: mié, oct 07, 2020 - 13:13:22\n",
      "\\begin{table}[!htbp] \\centering \n",
      "  \\caption{} \n",
      "  \\label{} \n",
      "\\begin{tabular}{@{\\extracolsep{5pt}}lcccc} \n",
      "\\\\[-1.8ex]\\hline \n",
      "\\hline \\\\[-1.8ex] \n",
      " & \\multicolumn{4}{c}{\\textit{Dependent variable:}} \\\\ \n",
      "\\cline{2-5} \n",
      "\\\\[-1.8ex] & log(wage) & educ & \\multicolumn{2}{c}{log(wage)} \\\\ \n",
      "\\\\[-1.8ex] & \\textit{OLS} & \\textit{OLS} & \\textit{OLS} & \\textit{instrumental} \\\\ \n",
      " & \\textit{} & \\textit{} & \\textit{} & \\textit{variable} \\\\ \n",
      " & MCO & Etapa 1 & Etapa 2 & IVREG \\\\ \n",
      "\\\\[-1.8ex] & (1) & (2) & (3) & (4)\\\\ \n",
      "\\hline \\\\[-1.8ex] \n",
      " educ & 0.106$^{***}$ &  &  & 0.055$^{*}$ \\\\ \n",
      "  & (0.014) &  &  & (0.033) \\\\ \n",
      "  & & & & \\\\ \n",
      " fitted(stage1) &  &  & 0.055 &  \\\\ \n",
      "  &  &  & (0.034) &  \\\\ \n",
      "  & & & & \\\\ \n",
      " exper & 0.041$^{***}$ & 0.040 & 0.043$^{***}$ & 0.043$^{***}$ \\\\ \n",
      "  & (0.013) & (0.040) & (0.014) & (0.013) \\\\ \n",
      "  & & & & \\\\ \n",
      " I(exper$\\hat{\\mkern6mu}$2) & $-$0.001$^{**}$ & $-$0.001 & $-$0.001$^{**}$ & $-$0.001$^{**}$ \\\\ \n",
      "  & (0.0004) & (0.001) & (0.0004) & (0.0004) \\\\ \n",
      "  & & & & \\\\ \n",
      " city & 0.054 & 0.467$^{**}$ & 0.092 & 0.092 \\\\ \n",
      "  & (0.068) & (0.209) & (0.076) & (0.072) \\\\ \n",
      "  & & & & \\\\ \n",
      " motheduc &  & 0.164$^{***}$ &  &  \\\\ \n",
      "  &  & (0.036) &  &  \\\\ \n",
      "  & & & & \\\\ \n",
      " fatheduc &  & 0.174$^{***}$ &  &  \\\\ \n",
      "  &  & (0.034) &  &  \\\\ \n",
      "  & & & & \\\\ \n",
      " Constant & $-$0.531$^{***}$ & 8.914$^{***}$ & 0.072 & 0.072 \\\\ \n",
      "  & (0.199) & (0.433) & (0.422) & (0.404) \\\\ \n",
      "  & & & & \\\\ \n",
      "\\hline \\\\[-1.8ex] \n",
      "Observations & 428 & 428 & 428 & 428 \\\\ \n",
      "R$^{2}$ & 0.158 & 0.221 & 0.056 & 0.133 \\\\ \n",
      "Adjusted R$^{2}$ & 0.150 & 0.211 & 0.047 & 0.125 \\\\ \n",
      "Residual Std. Error & 0.667 (df = 423) & 2.029 (df = 422) & 0.706 (df = 423) & 0.676 (df = 423) \\\\ \n",
      "F Statistic & 19.856$^{***}$ (df = 4; 423) & 23.901$^{***}$ (df = 5; 422) & 6.223$^{***}$ (df = 4; 423) &  \\\\ \n",
      "\\hline \n",
      "\\hline \\\\[-1.8ex] \n",
      "\\textit{Note:}  & \\multicolumn{4}{r}{$^{*}$p$<$0.1; $^{**}$p$<$0.05; $^{***}$p$<$0.01} \\\\ \n",
      "\\end{tabular} \n",
      "\\end{table} \n"
     ]
    }
   ],
   "source": [
    "stargazer(Reg.MCO, stage1,stage2,aut.MC2E,\n",
    "          column.labels = c(\"MCO\", \"Etapa 1\",\"Etapa 2\",\"IVREG\"))"
   ]
  },
  {
   "cell_type": "markdown",
   "metadata": {},
   "source": [
    "\\begin{table}[!htbp] \\centering \n",
    "  \\caption{Resultados de la estimación para el caso de dos instrumentos} \n",
    "  \\label{} \n",
    "\\begin{tabular}{@{\\extracolsep{5pt}}lcccc} \n",
    "\\\\[-1.8ex]\\hline \n",
    "\\hline \\\\[-1.8ex] \n",
    " & \\multicolumn{4}{c}{\\textit{Dependent variable:}} \\\\ \n",
    "\\cline{2-5} \n",
    "\\\\[-1.8ex] & log(wage) & educ & \\multicolumn{2}{c}{log(wage)} \\\\ \n",
    "\\\\[-1.8ex] & \\textit{OLS} & \\textit{OLS} & \\textit{OLS} & \\textit{instrumental} \\\\ \n",
    " & \\textit{} & \\textit{} & \\textit{} & \\textit{variable} \\\\ \n",
    " & MCO & Etapa 1 & Etapa 2 & IVREG \\\\ \n",
    "\\\\[-1.8ex] & (1) & (2) & (3) & (4)\\\\ \n",
    "\\hline \\\\[-1.8ex] \n",
    " educ & 0.106$^{***}$ &  &  & 0.055$^{*}$ \\\\ \n",
    "  & (0.014) &  &  & (0.033) \\\\ \n",
    "  & & & & \\\\ \n",
    " fitted(stage1) &  &  & 0.055 &  \\\\ \n",
    "  &  &  & (0.034) &  \\\\ \n",
    "  & & & & \\\\ \n",
    " exper & 0.041$^{***}$ & 0.040 & 0.043$^{***}$ & 0.043$^{***}$ \\\\ \n",
    "  & (0.013) & (0.040) & (0.014) & (0.013) \\\\ \n",
    "  & & & & \\\\ \n",
    " I(exper$\\hat{\\mkern6mu}$2) & $-$0.001$^{**}$ & $-$0.001 & $-$0.001$^{**}$ & $-$0.001$^{**}$ \\\\ \n",
    "  & (0.0004) & (0.001) & (0.0004) & (0.0004) \\\\ \n",
    "  & & & & \\\\ \n",
    " city & 0.054 & 0.467$^{**}$ & 0.092 & 0.092 \\\\ \n",
    "  & (0.068) & (0.209) & (0.076) & (0.072) \\\\ \n",
    "  & & & & \\\\ \n",
    " motheduc &  & 0.164$^{***}$ &  &  \\\\ \n",
    "  &  & (0.036) &  &  \\\\ \n",
    "  & & & & \\\\ \n",
    " fatheduc &  & 0.174$^{***}$ &  &  \\\\ \n",
    "  &  & (0.034) &  &  \\\\ \n",
    "  & & & & \\\\ \n",
    " Constant & $-$0.531$^{***}$ & 8.914$^{***}$ & 0.072 & 0.072 \\\\ \n",
    "  & (0.199) & (0.433) & (0.422) & (0.404) \\\\ \n",
    "  & & & & \\\\ \n",
    "\\hline \\\\[-1.8ex] \n",
    "Observations & 428 & 428 & 428 & 428 \\\\ \n",
    "R$^{2}$ & 0.158 & 0.221 & 0.056 & 0.133 \\\\ \n",
    "Adjusted R$^{2}$ & 0.150 & 0.211 & 0.047 & 0.125 \\\\ \n",
    "Residual Std. Error & 0.667 (df = 423) & 2.029 (df = 422) & 0.706 (df = 423) & 0.676 (df = 423) \\\\ \n",
    "F Statistic & 19.856$^{***}$ (df = 4; 423) & 23.901$^{***}$ (df = 5; 422) & 6.223$^{***}$ (df = 4; 423) &  \\\\ \n",
    "\\hline \n",
    "\\hline \\\\[-1.8ex] \n",
    "\\textit{Note:}  & \\multicolumn{4}{r}{$^{*}$p$<$0.1; $^{**}$p$<$0.05; $^{***}$p$<$0.01} \\\\ \n",
    "\\end{tabular} \n",
    "\\end{table}\n",
    "\n",
    "# Test de diagnósticos: Hausman, Instrumentos débiles y sobreidentificación de Sargan\n",
    "\n",
    "## Test de Hausman \n",
    "\n",
    "Algo que es muy impotante es saber si un regresor es endógeno o no lo es. Lo anterior se debe a que si el regresor no fuera endógeno entonces la estimación habiltual por MCO sería muchisimo más eficiente que la estimación por VI. Es decir, uno debería realizar una estiamción por VI exclusivamente cuando hay presencia de regresores endógenos, de lo contrario, si todos los regresores fueran exógenoes entonces variables instrumentales sería infeciente frente a MCO. \n",
    "\n",
    "El problema de la endogeneidad de un regresor es un problema más teórico que práctica. Es decir, en el ejemplo anterior uno esperaría desde la teoría que la educación se encuentre correlacionada con factores inobservables que hagan parte del error como lo es la habilidad innata de los individuos dado que se espera teóricamente que personas más habilidosas generlamente o en promedio tengan mayores niveles de educación que personas menos habilidosas. \n",
    "\n",
    "No obstante, a pesar de que la pregunta es de carácter teórica, existe una prueba formal que podría ayudar a iluminar un poco si algún regresor presenta endógenidad. Dicha prueba consiste como el test de Hausman y busca determinar si un regresor es endógeno o no. \n",
    "\n",
    "El test de Hausman dice que: \n",
    "\n",
    "\\begin{align*}\n",
    "H_0&=\\; \\text{exogeneidad de los regresores}\n",
    "H_a&=\\; \\text{al menos un regresor es endógeno}\n",
    "\\end{align*}\n",
    "\n",
    "Esta prueba nos indicará si es necesario o no el uso de variables instrumentales de tal manera que la **hipotesis nula** es  Exógeneidad. De tal manera, que si rechazamos la hipotesis nula, a favor de la alternativa significa que debemos hacer uso de Variables instrumentales. \n",
    "\n",
    "### Test de Hausman manual \n",
    "\n",
    "La primera forma de aplicar el test de Hausman es realizar el test de manera manual. Este test consiste en dos etapas: \n",
    "\n",
    "#### Etapa 1\n",
    "\n",
    "Para aplicar esta prueba, es necesario calcular los errores o residuos de la **primera etapa**"
   ]
  },
  {
   "cell_type": "code",
   "execution_count": 22,
   "metadata": {
    "cache": true
   },
   "outputs": [],
   "source": [
    "res.stage1<-resid(stage1)"
   ]
  },
  {
   "cell_type": "markdown",
   "metadata": {},
   "source": [
    "Ello se debe a que si el regresor fuera endógeno, entonces la *parte endógena* del regresor quedaría *almacenada* en los *residuales de la primera etapa*. \n",
    "\n",
    "#### Etapa 2\n",
    "\n",
    "Luego, estimaremos la regresión aumentada de la Variable dependiente contra los *regresores exógenas originales*, *la variable regresora que se cree endógena* y los *residuales de la primera etapa*. Si encontramos que el coeficiente que acompaña a los residuales de la primera etapa es *estadísticamente significativos* concluiremos que el modelo *sufre de endogeneidad*. "
   ]
  },
  {
   "cell_type": "code",
   "execution_count": 23,
   "metadata": {
    "cache": true
   },
   "outputs": [
    {
     "data": {
      "text/plain": [
       "\n",
       "Call:\n",
       "lm(formula = log(wage) ~ educ + exper + I(exper^2) + city + res.stage1, \n",
       "    data = data.VI)\n",
       "\n",
       "Residuals:\n",
       "     Min       1Q   Median       3Q      Max \n",
       "-3.02457 -0.31160  0.03785  0.39279  2.31036 \n",
       "\n",
       "Coefficients:\n",
       "              Estimate Std. Error t value Pr(>|t|)   \n",
       "(Intercept)  0.0723140  0.3975779   0.182   0.8558   \n",
       "educ         0.0552272  0.0321784   1.716   0.0868 . \n",
       "exper        0.0434902  0.0132373   3.285   0.0011 **\n",
       "I(exper^2)  -0.0008816  0.0003958  -2.227   0.0264 * \n",
       "city         0.0916476  0.0712079   1.287   0.1988   \n",
       "res.stage1   0.0628909  0.0359160   1.751   0.0807 . \n",
       "---\n",
       "Signif. codes:  0 ‘***’ 0.001 ‘**’ 0.01 ‘*’ 0.05 ‘.’ 0.1 ‘ ’ 1\n",
       "\n",
       "Residual standard error: 0.6651 on 422 degrees of freedom\n",
       "Multiple R-squared:  0.1642,\tAdjusted R-squared:  0.1543 \n",
       "F-statistic: 16.58 on 5 and 422 DF,  p-value: 5.936e-15\n"
      ]
     },
     "metadata": {},
     "output_type": "display_data"
    }
   ],
   "source": [
    "Reg.aum <- lm(log(wage)~educ+exper+I(exper^2)+city+res.stage1, data=data.VI)\n",
    "summary(Reg.aum)"
   ]
  },
  {
   "cell_type": "markdown",
   "metadata": {},
   "source": [
    "De lo anterior, concluimos que a un nivel de significancia del 10 % el test confirma nuestra intuición de que la variable educación es endógena. \n",
    "\n",
    "## Test de diagnóstico con base en el modelo de errores robustos.\n",
    "\n",
    "De igual forma, cuando se tiene un sistema sobreidentificado, también es conveniente realizar algunos test de diagnóstico para corroborar ciertas propiedades de los instrumentos y de los regresores del modelo. Para realizar dichos test de diagnóstico es necesario agregar *diagnostics=TRUE* al comando iv_robust. "
   ]
  },
  {
   "cell_type": "code",
   "execution_count": 24,
   "metadata": {
    "cache": true
   },
   "outputs": [
    {
     "data": {
      "text/plain": [
       "\n",
       "Call:\n",
       "iv_robust(formula = log(wage) ~ educ + exper + I(exper^2) + city | \n",
       "    motheduc + fatheduc + exper + I(exper^2) + city, data = data.VI, \n",
       "    diagnostics = TRUE)\n",
       "\n",
       "Standard error type:  HC2 \n",
       "\n",
       "Coefficients:\n",
       "              Estimate Std. Error t value Pr(>|t|) CI Lower   CI Upper  DF\n",
       "(Intercept)  0.0723140  0.4337123  0.1667 0.867660 -0.78019  0.9248137 423\n",
       "educ         0.0552272  0.0343161  1.6094 0.108282 -0.01222  0.1226785 423\n",
       "exper        0.0434902  0.0157510  2.7611 0.006011  0.01253  0.0744503 423\n",
       "I(exper^2)  -0.0008816  0.0004369 -2.0180 0.044221 -0.00174 -0.0000229 423\n",
       "city         0.0916476  0.0691717  1.3249 0.185910 -0.04432  0.2276106 423\n",
       "\n",
       "Multiple R-squared:  0.1334 ,\tAdjusted R-squared:  0.1252 \n",
       "F-statistic:  5.66 on 4 and 423 DF,  p-value: 0.0001909\n",
       "\n",
       "Diagnostics:\n",
       "                 numdf dendf  value p.value    \n",
       "Weak instruments     2   422 46.184  <2e-16 ***\n",
       "Wu-Hausman           1   422  2.782  0.0961 .  \n",
       "Overidentifying      1    NA  0.200  0.6547    \n",
       "---\n",
       "Signif. codes:  0 ‘***’ 0.001 ‘**’ 0.01 ‘*’ 0.05 ‘.’ 0.1 ‘ ’ 1"
      ]
     },
     "metadata": {},
     "output_type": "display_data"
    }
   ],
   "source": [
    "MC2E.Robusto <- iv_robust(log(wage)~educ+exper+\n",
    "                            I(exper^2)+city|motheduc+fatheduc+exper+I(exper^2) + city ,\n",
    "                          data=data.VI, diagnostics=TRUE)\n",
    "summary(MC2E.Robusto, diagnostics = TRUE)"
   ]
  },
  {
   "cell_type": "markdown",
   "metadata": {},
   "source": [
    "Con este comando se podrá determinar si los instrumento son débiles, si al menos un regresor es endógeno en el modelo y si los instrumentos son exógenos. En ese orden los test de diagnóstico sería, respectivamente: \n",
    "\n",
    "+ **Weak instrument:** Ho= Los instrumentos son débiles Ha= al menos un instrumento es débil (no se correlaciona con la variable endógena)\n",
    "+ **Hausman:** Ho = No hay endogeneidad (si se rechaza hay que usar variables instrumentales (i.e. MC2E))\n",
    "+ **Sargan:**  Ho= Instrumentos exógenos - Ha= al menos uno es endógeno (sistema sobre-identificado)\\footnote{El test de sobreidentificación solo aparece en sistemas sobreidentificados, es decir, cuando hayan más instrumentos que regresores endógenos}\n",
    "\n",
    "De los resultados del código anterior, es posible concluir que el modelo instrumentado: \n",
    "\n",
    "- Del test de *Weak instruments* no se rechaza por lo que se podría decir que ambos instrumentos son fuertes (i.e. tienen fuera correlación con la variable que se supone endógena (la educación)). Con eso se estaría corroborando el supuesto de relvancia para los dos instrumentos\n",
    "\n",
    "- El test de Hausman es el mismo test que se realizó en la sección anterior solo que acá se hace de manera automática y se corrige por errores robustos. Como se rechaza la hipótesis nula a un nivel de significancia del 10 % entonces se puede decir que hay endógenidad en el regresor. \n",
    "\n",
    "- No rechazo la hipótesis nula de que ambos instrumentos son exógenos \n",
    "\n",
    "Por los resultados anterioes, en la práctica podría utilizar ambos instrumentos *fatheduc* y  *motheduc* para la variable regresora endógena *educ*\n",
    "\n",
    "# Bibliografía"
   ]
  }
 ],
 "metadata": {
  "jupytext": {
   "cell_metadata_filter": "message,tags,name,cache,echo,-all",
   "main_language": "R",
   "notebook_metadata_filter": "-all"
  },
  "kernelspec": {
   "display_name": "R",
   "language": "R",
   "name": "ir"
  },
  "language_info": {
   "codemirror_mode": "r",
   "file_extension": ".r",
   "mimetype": "text/x-r-source",
   "name": "R",
   "pygments_lexer": "r",
   "version": "3.6.3"
  }
 },
 "nbformat": 4,
 "nbformat_minor": 4
}
