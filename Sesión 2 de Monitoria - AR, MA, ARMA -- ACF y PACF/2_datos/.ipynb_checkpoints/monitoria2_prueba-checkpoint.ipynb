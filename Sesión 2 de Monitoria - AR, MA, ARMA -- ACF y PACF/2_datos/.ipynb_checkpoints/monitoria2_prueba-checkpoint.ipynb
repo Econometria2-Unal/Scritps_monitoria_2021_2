{
 "cells": [
  {
   "cell_type": "raw",
   "metadata": {},
   "source": [
    "---\n",
    "title: \"Monitoria econometria 2\"\n",
    "author: \"Camilo Forero - Jhan Andrade - Germán Rodriguez\"\n",
    "date: \"16/9/2020\"\n",
    "output: pdf_document\n",
    "---"
   ]
  },
  {
   "cell_type": "markdown",
   "metadata": {
    "lines_to_next_cell": 0
   },
   "source": [
    "\\tableofcontents\n",
    "\n",
    "> Para las personas que quieran reproducir el documento deben tener el documento markdown (extención .md), con el que se genero este PDF, en el mismo directorio o carpeta donde se encuentra las bases de datos \n",
    "\n",
    "# 1. Importación y tipo de datos \n",
    "\n",
    "R studio permite cargar diversos formatos de bases de datos en los cuales se destacan: \n",
    "\n",
    "- **Archivos CSV:**  Archivos delimitados por comas o punto y coma \n",
    "- **Archivos txt:** Archivos delimitados por tabulaciones \n",
    "- **Archivos dta:** Bases de datos de STATA \n",
    "- **Archivos XLS y XLSX**:  Archivos de excel \n",
    "\n",
    "Para importar bases de datos en RStudio es importante en primer lugar configurar el directorio de trabajo \n",
    "\n",
    "## 1.1 Configuración del directorio de trabajo \n",
    "\n",
    "- **Obtener el directorio de trabajo:** "
   ]
  },
  {
   "cell_type": "code",
   "execution_count": null,
   "metadata": {
    "cache": true,
    "echo": true,
    "name": "setup"
   },
   "outputs": [],
   "source": [
    "WD<-getwd()\n",
    "WD"
   ]
  },
  {
   "cell_type": "markdown",
   "metadata": {},
   "source": [
    "- **Establecer el directorio de trabajo:** \n",
    "\n",
    "Dentro de las comillas de debe poner la ruta de la carpeta en donde se encuentran guardadas las bases de datos:\n",
    "\n",
    "Un ejemplo de la estructura del código para usar el comando setwd en RSstudio sería: \n",
    "\n",
    "setwd(\"C:/Users/FORERO/Documents/Bases de datos\")"
   ]
  },
  {
   "cell_type": "code",
   "execution_count": null,
   "metadata": {
    "cache": true
   },
   "outputs": [],
   "source": [
    "setwd(WD)"
   ]
  },
  {
   "cell_type": "markdown",
   "metadata": {},
   "source": [
    "Una vez se configure el directorio de trabajo, se podrán llamar los archivos por el nombre y formato en el que esta guardado. Es importante indicarle a RStudio en que tipo de formato se encuentra la base de datos, por ejemplo: \n",
    "\n",
    "* **\"Nombre_Base.xls\"** para archivos excel\n",
    "* **\"Nombre_Base.xlsx\"** para archivos excel \n",
    "* **\"Nombre_Base.csv\"** para archivos excel\n",
    "* **\"Nombre_Base.dta\"** para archivos excel\n",
    "\n",
    "Hay que usar diferentes funciones dependiendo del formato en el que se encuentre la base de datos que se va a importar. A continuación, se encuentra las diferentes funciones para importar bases de datos. \n",
    "\n",
    "## 1.2 Importar datos en formato csv"
   ]
  },
  {
   "cell_type": "code",
   "execution_count": null,
   "metadata": {
    "cache": true
   },
   "outputs": [],
   "source": [
    "titanic=read.csv(\"titanic.csv\", sep = \",\")"
   ]
  },
  {
   "cell_type": "markdown",
   "metadata": {},
   "source": [
    "Para ver la base de datos usamos el código *View(titanic)*.  \n",
    "\n",
    "Para trabajar con el nombre de los datos de las variables sin necesidad de usar el operador atómico **$**"
   ]
  },
  {
   "cell_type": "code",
   "execution_count": null,
   "metadata": {},
   "outputs": [],
   "source": [
    "attach(titanic)"
   ]
  },
  {
   "cell_type": "markdown",
   "metadata": {},
   "source": [
    "Para visualizar un resumen de la base de datos importada: "
   ]
  },
  {
   "cell_type": "code",
   "execution_count": null,
   "metadata": {
    "cache": true
   },
   "outputs": [],
   "source": [
    "summary(titanic)"
   ]
  },
  {
   "cell_type": "markdown",
   "metadata": {},
   "source": [
    "## 1.3 Importar datos de excel \n",
    "\n",
    "Para importar datos en formato \"xls\" o \"xlxs\" es importante descargar el paquete *readxl*"
   ]
  },
  {
   "cell_type": "code",
   "execution_count": null,
   "metadata": {
    "cache": true,
    "message": false
   },
   "outputs": [],
   "source": [
    "#install.packages(\"readxl\")\n",
    "library(readxl)"
   ]
  },
  {
   "cell_type": "markdown",
   "metadata": {},
   "source": [
    "Vamos a cargar la base de datos llamada *Datos1 - Script 2* en formato \"xlsx\" "
   ]
  },
  {
   "cell_type": "code",
   "execution_count": null,
   "metadata": {
    "cache": true
   },
   "outputs": [],
   "source": [
    "Excel<-read_excel(\"Datos1 - Script 2.xlsx\")"
   ]
  },
  {
   "cell_type": "markdown",
   "metadata": {},
   "source": [
    "Los siguientes códigos nos permiten: \n",
    "\n",
    "- *Excel*: visualizar la base de datos en la consola\n",
    "- *attach(Excel)*: trabajar con el nombre de las variables sin necesidad de trabajar con el operador atómico *$*\n",
    "- *View(Excel)*: Visualizar la base de datos en RStudio en una nueva ventana como si fuera una tabla de excel\n",
    "\n",
    "## 1.4 Importar datos provenientes de STATA \n",
    "\n",
    "Para que RStudio pueda cargar bases de datos en STATA (ya sea que se encuentra guardadas localmente como documentos o cargadas en Internet),es importante instalar el paquete foreign "
   ]
  },
  {
   "cell_type": "code",
   "execution_count": null,
   "metadata": {
    "cache": true
   },
   "outputs": [],
   "source": [
    "#install.packages(\"foreign\") \n",
    "library(foreign)"
   ]
  },
  {
   "cell_type": "markdown",
   "metadata": {},
   "source": [
    "El comando para cargar este tipo de bases es: "
   ]
  },
  {
   "cell_type": "code",
   "execution_count": null,
   "metadata": {
    "cache": true
   },
   "outputs": [],
   "source": [
    "Datos<-read.dta(\"http://qcpages.qc.cuny.edu/~rvesselinov/statadata/phillips.dta\")"
   ]
  },
  {
   "cell_type": "markdown",
   "metadata": {},
   "source": [
    "## 1.5 Importar datos usando las bibliotecas de tidyverse \n",
    "\n",
    "La biblioteca tidyverse es un conjunto de paquetes de R que permiten: Importar, modificar y analizar bases de datos. Contiene el objeto: *tibble* que cumple el mismo papel que un dataframe pero con más funcionalidades. Además, contiene funcionalidades de gráficación.\n",
    "\n",
    "**Paquetes principales:**\n",
    "\n",
    "- dplyr: Para modificar variables dentro de las bases de datos. Esto implica filtrar, modificar variables, agrupar variables y demás dentro una base de datos. \n",
    "- tidyr: Para modificar la estructura de la base de datos\n",
    "- ggplot2: Biblioteca de graficación (Posiblemente la principal biblioteca de graficación de R)\n",
    "- readr: Para importar y trabajar con archivos excel\n",
    "\n",
    "y mucho otros paquetes. Los interesados en conocer más sobre el conjunto de paquetes del tidyverse pueden revisar el siguiente link: [Link al tidyverse](https://www.tidyverse.org/)"
   ]
  },
  {
   "cell_type": "code",
   "execution_count": null,
   "metadata": {
    "cache": true
   },
   "outputs": [],
   "source": [
    "#install.packages(\"tidyverse\")\n",
    "library(tidyverse)"
   ]
  },
  {
   "cell_type": "markdown",
   "metadata": {},
   "source": [
    "### Importar un archivo csv usando tidyverse \n",
    "\n",
    "read_csv importa la base de datos en formato csv como un objeto tibble."
   ]
  },
  {
   "cell_type": "code",
   "execution_count": null,
   "metadata": {
    "cache": true
   },
   "outputs": [],
   "source": [
    "titanic2 = read_csv(\"titanic.csv\") "
   ]
  },
  {
   "cell_type": "markdown",
   "metadata": {},
   "source": [
    "glimpse\\footnote{este comando hace parte del paquete dplyr} es un comando que permite visualizar la base de datos de manera compacta en la consola\\footnote{Donde entre otras cosas muestre el tipo o clase de la variable que se está importando}"
   ]
  },
  {
   "cell_type": "code",
   "execution_count": null,
   "metadata": {
    "cache": true,
    "eval": false
   },
   "outputs": [],
   "source": [
    "glimpse(titanic2) "
   ]
  },
  {
   "cell_type": "markdown",
   "metadata": {},
   "source": [
    "# 2. Manipulación de base de datos \n",
    " \n",
    "RStudio es una de las alternativas mas sencillas para realizar minería de datos, comúnmente lo que uno suele hacer con los datos es ordenarlos, transformarlos, reducir el número de observaciones, etc. Bastante utilizado hoy en día en temas de Big Data y Machine Learning.\n",
    "\n",
    "## 2.1 Remplazar valores de una variable con if else "
   ]
  },
  {
   "cell_type": "code",
   "execution_count": null,
   "metadata": {
    "cache": true
   },
   "outputs": [],
   "source": [
    "summary(titanic$Sex)"
   ]
  },
  {
   "cell_type": "markdown",
   "metadata": {},
   "source": [
    "Se busca remplazar las variables categóricas del género, de tal manera que se cree una variable dummy que tome el valor de 1 cuando es mujer y 0 en otro caso: "
   ]
  },
  {
   "cell_type": "code",
   "execution_count": null,
   "metadata": {
    "cache": true
   },
   "outputs": [],
   "source": [
    "titanic$Sex<-ifelse(titanic$Sex==\"female\",1,0) #ifelse(test lógico, yes/verdadero, no/falso)\n",
    "summary(titanic$Sex)"
   ]
  },
  {
   "cell_type": "markdown",
   "metadata": {},
   "source": [
    "Otro ejemplo, es crear una variable de conteo que indique la clase en la que viajaba el tripulante del Titanic: "
   ]
  },
  {
   "cell_type": "code",
   "execution_count": null,
   "metadata": {
    "cache": true
   },
   "outputs": [],
   "source": [
    "titanic$PClass<-ifelse(titanic$PClass==\"1st\",1,\n",
    "                       ifelse(titanic$PClass==\"2nd\",2,3))"
   ]
  },
  {
   "cell_type": "code",
   "execution_count": null,
   "metadata": {
    "cache": true
   },
   "outputs": [],
   "source": [
    "table(titanic$PClass)"
   ]
  },
  {
   "cell_type": "markdown",
   "metadata": {},
   "source": [
    "## 2.2 Medidas de tendencia central y variabilidad "
   ]
  },
  {
   "cell_type": "code",
   "execution_count": null,
   "metadata": {
    "cache": true
   },
   "outputs": [],
   "source": [
    "mean(Age, na.rm= T)         #Media\n",
    "median(Age,na.rm = T)       #Mediana\n",
    "sd(Age,na.rm = T)           #Desviación estandar\n",
    "var(Age,na.rm = T)          #Varianza"
   ]
  },
  {
   "cell_type": "markdown",
   "metadata": {},
   "source": [
    "*El argumento __na.rm__ es para que las casillas en las que no hay información no se tengan en cuenta*\n",
    "\n",
    "## 2.3 Gráficos \n",
    "\n",
    "### 2.3.1 Gráficos usando las funciones de R \n",
    "\n",
    "#### Tablas \n",
    "\n",
    "La estructura del código es table(Nombre_variable)"
   ]
  },
  {
   "cell_type": "code",
   "execution_count": null,
   "metadata": {
    "cache": true
   },
   "outputs": [],
   "source": [
    "table(Sex)\n",
    "table(PClass)"
   ]
  },
  {
   "cell_type": "markdown",
   "metadata": {},
   "source": [
    "#### Gráfica de barras \n",
    "\n",
    "Para crear un diagrama de barras es importante primero crear una Tabla de frecuencia de la variable que se desee graficar "
   ]
  },
  {
   "cell_type": "code",
   "execution_count": null,
   "metadata": {
    "cache": true,
    "fig.height": 3.5,
    "lines_to_next_cell": 0
   },
   "outputs": [],
   "source": [
    "#x11() #x11() permite que las gráficas se desplieguen en ventanas emergentes.\n",
    "barplot(table(Sex), main =\"Frecuencia de género\", xlab=\"Género\",\n",
    "        ylab =\"Número\", col=\"brown\") # main es para el título, xlab y ylab son para \n",
    "                                     # los nombres de las ejes  y col es para el color de las barras"
   ]
  },
  {
   "cell_type": "markdown",
   "metadata": {},
   "source": [
    "> Para las personas que prefieran visualizar las gráficas en una pestaña externa pueden usar el comando x11() que permite que las gráficas se desplieguen en ventanas emergentes.\n",
    "\n",
    "### Histogramas \n",
    "\n",
    "La estructura del código es hist(Nombre_variable, main=\"...\", xlab=\"...\",ylab=\"...\", col=\"...\")\n",
    "\n",
    "- main: Para el título de la gráfica\n",
    "- xlab: Para el título del eje x\n",
    "- ylab: Para el título del eje y\n",
    "- col: Color de las barras"
   ]
  },
  {
   "cell_type": "code",
   "execution_count": null,
   "metadata": {
    "cache": true,
    "fig.height": 3.5
   },
   "outputs": [],
   "source": [
    "hist(Age, main = \"Edad de los tripulantes\", xlab=\"Edad\",\n",
    "     ylab = \"Frecuencia\", col = \"blue3\")"
   ]
  },
  {
   "cell_type": "markdown",
   "metadata": {},
   "source": [
    "### Diagrama de Caja - boxplot\n",
    "\n",
    "La estructura del código es boxplot(Nombre_variable, horizontal=T, main=\"...\", abline(v=mean(Age,na.rm = T), col=\"...\")\n",
    "\n",
    "- El argumento *horizontal* permite que el diagrama de caja sea horizontal \n",
    "- El argumento *abline* agregara una linea vértical al grafico, en este caso indicara la media de la variable"
   ]
  },
  {
   "cell_type": "code",
   "execution_count": null,
   "metadata": {
    "cache": true,
    "fig.height": 3.5
   },
   "outputs": [],
   "source": [
    "boxplot(Age, col=c(3), horizontal = TRUE, main=\"Edad tripulantes Titanic\")\n",
    "abline(v=mean(Age,na.rm = T),col=c(2))\n",
    "summary(Age)"
   ]
  },
  {
   "cell_type": "markdown",
   "metadata": {},
   "source": [
    "## Gráfico tipo pie \n",
    "\n",
    "De la misma manera que el gráfico de barras, hay que primero crear una tabla de frecuencia acumulada para que R Studio pueda crear el grafico de torta\n",
    "\n",
    "La estructura del código es pie(table(**VARIABLE**),radius=0.8, main = \"...\", col = c()),legend(\"topleft\", legend=c(\"Desaparecido\",\"Sobreviviente\"), pch = 10,col =c(\"brown1\",\"dodgerblue\"))\n",
    "\n",
    "- *radius* indica el tamaño de la gráfica \n",
    "- *legend* permite agregar un cuadro de leyenda al gráfico (Para mas información pueden leer la documentación de legend)\n",
    "- *pch* indica la figura de la convención de la leyenda + Hay que tener en cuenta que \n"
   ]
  },
  {
   "cell_type": "code",
   "execution_count": null,
   "metadata": {
    "cache": true,
    "fig.height": 3
   },
   "outputs": [],
   "source": [
    "\n",
    "pie(table(Survived),radius=0.8, main = \"Gráfico tipo pastel\", col = c(\"brown1\",\"blue2\"))\n",
    "legend(\"topleft\", legend= c(\"Desaparecido\",\"Sobreviviente\"), pch = 10,col =\n",
    "         c(\"brown1\",\"dodgerblue\"),)"
   ]
  },
  {
   "cell_type": "markdown",
   "metadata": {},
   "source": [
    "## 2.2 Gráficos usando la biblioteca ggplot2 \n",
    "\n",
    "La librería ggplot2 permite crear gráficos mucho mas estéticos. Este paquete provee una estructura base de tal manera que se le indica que tipo de variable se va a graficar y como se va a presentar. La función base para hacer cualquier tipo de gráfico es: "
   ]
  },
  {
   "cell_type": "code",
   "execution_count": null,
   "metadata": {
    "cache": true,
    "warning": false
   },
   "outputs": [],
   "source": [
    "hist1 = ggplot(data = titanic, aes(Age)) +\n",
    "        geom_histogram(fill = \"yellow3\") + \n",
    "        labs(title = \"Edad de los tripulantes\") +\n",
    "        xlab(\"Edad\") + \n",
    "        ylab(\"Frecuencia\") + \n",
    "        theme_classic()\n",
    "hist1"
   ]
  },
  {
   "cell_type": "markdown",
   "metadata": {},
   "source": [
    "ggplot opera a través de layers o capas\\footnote{cada capa se conecta mediante un **+**}: \n",
    "1. La capa principal es la que se conoce como ggplot(*base_datos*, aes(x = var_x, y = var_y)). En ella se especifica primero la *base_datos* con la que se va a trabajar y luego dentro de **aes()** las variables x(independiente) y y(dependiente) para la gráfica. \n",
    "2. Luego, la capa geom_**gráfica** indica el tipo de gráfica. En el caso del ejemplo anterior se desea hacer un histograma por lo que usa **geom_histogram**\n",
    "3. A continuación, se especifica la capa de labs en donde se coloca el título de la gráfica.\n",
    "4. Las siguientes dos capas especifican los nombres para el eje x y para el eje y\n",
    "5. Finalmente, la capa theme_classic() espeficica\n",
    "\n",
    "Como pueden observar, toda gráfica de ggplot opera mediante un estructura de capas. \n",
    "\n",
    "# 3. Regresión lineal \n",
    "\n",
    "Para los ejercicios de regresión de esta sección se cargaran los siguientes paquetes\\footnote{El paquete wooldridge contiene la mayoría de las bases de datos que se encuentran en la 6 edición del libro Wooldridge}: "
   ]
  },
  {
   "cell_type": "code",
   "execution_count": null,
   "metadata": {
    "cache": true
   },
   "outputs": [],
   "source": [
    "#install.packages(\"wooldridge\")\n",
    "library(wooldridge)"
   ]
  },
  {
   "cell_type": "markdown",
   "metadata": {},
   "source": [
    "En muchas ocasiones los paquetes tienen bases de datos, las cuales podemos cargar a RStudio. Vamos a importar la base de datos llamada bwght del paquete Wooldridge"
   ]
  },
  {
   "cell_type": "code",
   "execution_count": null,
   "metadata": {
    "cache": true
   },
   "outputs": [],
   "source": [
    "data(\"bwght2\") # Para importar bases de datos que se encuentran dentro de un paquete previamente instalado\n",
    "\n",
    "attach(bwght2)\n",
    "\n",
    "help(\"bwght2\") # Descripción de la base de datos"
   ]
  },
  {
   "cell_type": "markdown",
   "metadata": {},
   "source": [
    "La base de datos *bwght* es una base de datos con 1832 observaciones de 23 variables: "
   ]
  },
  {
   "cell_type": "code",
   "execution_count": null,
   "metadata": {
    "cache": true,
    "lines_to_next_cell": 2
   },
   "outputs": [],
   "source": [
    "glimpse(bwght2)"
   ]
  },
  {
   "cell_type": "markdown",
   "metadata": {},
   "source": [
    "+ mage: mother's age, years\n",
    "+ meduc: mother's educ, years\n",
    "+ monpre: month prenatal care began\n",
    "+ npvis: total number of prenatal visits\n",
    "+ fage: father's age, years\n",
    "+ feduc: father's educ, years\n",
    "+ bwght: birth weight, grams\n",
    "+ omaps: one minute apgar score\n",
    "+ fmaps: five minute apgar score\n",
    "+ cigs: avg cigarettes per day\n",
    "+ drink: avg drinks per week\n",
    "+ lbw: =1 if bwght <= 2000\n",
    "+ vlbw: =1 if bwght <= 1500\n",
    "+ male: =1 if baby male\n",
    "+ mwhte: =1 if mother white\n",
    "+ mblck: =1 if mother black\n",
    "+ moth: =1 if mother is other\n",
    "+ fwhte: =1 if father white\n",
    "+ fblck: =1 if father black\n",
    "+ foth: =1 if father is other\n",
    "+ lbwght: log(bwght)\n",
    "+ magesq: mage^2\n",
    "+ npvissq: npvis^2\n",
    "\n",
    "Las características o estadística descriptiva de las variables"
   ]
  },
  {
   "cell_type": "code",
   "execution_count": null,
   "metadata": {
    "cache": true
   },
   "outputs": [],
   "source": [
    "summary(bwght2) # Información más extensa de la base de datos \n",
    "#install.packages(\"tibble\")\n",
    "library(tibble)\n",
    "#glimpse(bwght2) # Manera compacta de visualizar la base de datos"
   ]
  },
  {
   "cell_type": "markdown",
   "metadata": {},
   "source": [
    "## 3.1 Estimación\n",
    "\n",
    "Para hacer una regresión lineal en RStudio el comando es *lm* de tal manera que la sintaxis del comando es *lm(Y ~ X , data=\"Nombre_Base_Datos\")* donde *Y* es la variable dependiente y *X* son todas las variables explicativas(regresoras).\n",
    "\n",
    "Con el *summary(Nombre de la regresión)* se pueden observar los resultados de las regresiones\n",
    "\n",
    "En el siguiente ejemplo se realizaran 3 regresiones en donde en cada regresión lo que variará serán las variables regresoras. "
   ]
  },
  {
   "cell_type": "code",
   "execution_count": null,
   "metadata": {
    "cache": true
   },
   "outputs": [],
   "source": [
    "MODELO1 = lm(bwght ~ cigs + drink + npvis + male + mage + \n",
    "               mwhte + mblck, data = bwght2)\n",
    "summary(MODELO1)\n",
    "\n",
    "MODELO2 = lm(bwght ~ cigs + drink + npvis + male + mage +\n",
    "               magesq +mwhte + mblck + meduc + feduc , data = bwght2)\n",
    "summary(MODELO2)\n",
    "\n",
    "mean.educ = (meduc + feduc)/2\n",
    "MODELO3 = lm(bwght ~ cigs + drink + npvis + male + mage + \n",
    "               magesq +mwhte + mblck + mean.educ, data = bwght2)\n",
    "summary(MODELO3)"
   ]
  },
  {
   "cell_type": "markdown",
   "metadata": {},
   "source": [
    "Para una regresión lineal simple estimada mediante OLS la salida del summary indicaría lo siguiente: \n",
    "- **Call**: indica básicamente el comando utilizado para generar la salida. \n",
    "- **Residuals**: Para indicar los cuantiles de los residuales\n",
    "- **Coefficients:** Para indicar el valor de los coeficientes estimados, el error estándar asociado a cada coeficiente, el t-valor y el p-valor asociado a las pruebas de signicancia. El número de estrellitas indica el nivel de significancia \n",
    "- **Signif. codes**: Indica el significado de cada uno de los códigos para los niveles de significancia. \n",
    "- **Residual standard error**: Indica el valor del error estándar poblacional el $\\sigma$. \n",
    "- **Multiple R-squared**: indica el $R^2$ y el $R^2_{adj}$\n",
    "- **F-statistic**: indica el estadístico F para la significancia global. En particular el valor del F estadístico, el número de grados de libertad y el p-valor. \n",
    "\n",
    "## Supustos de Gauss Markov\n",
    "\n",
    "1. Linealidad en los paramentros\n",
    "$y = \\beta_0 + \\beta_1 x_1 + \\cdots + \\beta_k x_k + u$\n",
    "2. La muestra proviene de un muestreo aleatorio\n",
    "3. No hay multicolinealidad perfecta entre los regresores\n",
    "4. Media condcional $E[u|x_1, x_2, \\cdots, x_k] = 0$\n",
    "5. Homocedasticidad $var(u|x_1, x_2, \\cdots, x_k) = \\sigma^2$\n",
    "\n",
    "### Consecuencias de los supuestos de Gauss Markov\n",
    "\n",
    "*   Si se cumplen los primeros 4 supuestos de Gauss Markov el estimador de **MCO** es insesgado y consistente \n",
    "*   Si se cumplen todos los supuestos de Gauss Markov el estimador de **MCO** es **MELI**\n",
    "\n",
    "### Presentación de resultados mediante la función stargazer\n",
    "\n",
    "Ahora bien, existe el comando *stargazer* el cual genera una presentación de los coeficientes estimados de cada regresión de una manera mucho mas estética de como los genera el *summary*\n",
    "\n",
    "Para ellos es importante cargar instalar los siguientes paquetes "
   ]
  },
  {
   "cell_type": "code",
   "execution_count": null,
   "metadata": {
    "cache": true
   },
   "outputs": [],
   "source": [
    "#install.packages(\"stargazer\")\n",
    "library(stargazer)"
   ]
  },
  {
   "cell_type": "markdown",
   "metadata": {},
   "source": [
    "La estructura básica de stargazer es indicarle el nombre de los modelos que se quieren presentar, pues este comando permite presentar mas de una regresión en la misma tabla y los diferentes argumentos adicionales que se quieran incluir en la tabla como lo son el $R^2$, el numero de observaciones entre otros. \n",
    "\n",
    "Argumentos de Stargazer: \n",
    "\n",
    "+ **title:** introducir un título a la tabla\n",
    "+ **type:** el formato de la tabla (e.g. text o latex)}\\footnote{Dependiendo del valor del argumento acá Stargazer generará ya sea una tabla de para imprimir en la consla o una tabla ingresar directamente en latex}\n",
    "+ **omit:** si se quiere omitir alguna variable de la tabla\n",
    "+ **style:** específica el estilo de la tabla (p.ej. aer para American Economic Review)\n",
    "+ **all** all statistics\n",
    "+ **\"adj.rsq\"** adjusted R-squared\n",
    "+ **\"aic\"** Akaike Information Criterion\n",
    "+ **\"bic\"** Bayesian Information Criterion\n",
    "+ **\"chi2\"** chi-squared\n",
    "+ **\"f\"** F statistic\n",
    "+ **\"ll\"** log-likelihood\n",
    "+ **\"logrank\"** score (logrank) test\n",
    "+ **\"lr\"** likelihood ratio (LR) test\n",
    "+ **\"max.rsq\"** maximum R-squared\n",
    "+ **\"n\"** number of observations\n",
    "+ **\"null.dev\"** null deviance\n",
    "+ **\"Mills\"** Inverse Mills Ratio\n",
    "+ **\"res.dev\"** residual deviance\n",
    "+ **\"rho\"** rho\n",
    "+ **\"rsq\"** R-squared\n",
    "+ **scale** scale\n",
    "+ **\"theta\"** theta\n",
    "+ **\"ser\"** standard error of the regression (i.e., residual standard error)\n",
    "+ **\"sigma2\"** sigma squared\n",
    "+ **\"ubre\"** Un-Biased Risk Estimator\n",
    "+ **\"wald\"** Wald test\n",
    "\n",
    "En el siguiente ejemplo stargazer mostrará las 3 regresiones lineales realizadas anteriormente: "
   ]
  },
  {
   "cell_type": "code",
   "execution_count": null,
   "metadata": {
    "cache": true,
    "lines_to_next_cell": 0,
    "warning": false
   },
   "outputs": [],
   "source": [
    "stargazer(MODELO1, MODELO2, MODELO3, type=\"text\", \n",
    "          column.labels = c(\"REG1\",\"REG2\", \"REG3\"),\n",
    "          keep.stat = c(\"n\", \"rsq\",\"adj.rsq\",\"aic\"))"
   ]
  },
  {
   "cell_type": "markdown",
   "metadata": {},
   "source": [
    "Si se usa el argumento type=latex la tabla resultante será:"
   ]
  },
  {
   "cell_type": "code",
   "execution_count": null,
   "metadata": {
    "cache": true,
    "warning": false
   },
   "outputs": [],
   "source": [
    "stargazer(MODELO1, MODELO2, MODELO3, type=\"latex\", \n",
    "          column.labels = c(\"REG1\",\"REG2\", \"REG3\"),\n",
    "          keep.stat = c(\"n\", \"rsq\",\"adj.rsq\",\"aic\"))"
   ]
  },
  {
   "cell_type": "markdown",
   "metadata": {},
   "source": [
    "Dicho código generado en la consola se puede copiar y pegar directamente en un documento latex para renderizar la tabla de resultados de la regresión el documento latex. \n",
    "\n",
    "## 3.2 Otro ejemplo de estimación \n",
    "\n",
    "Cargamos la base de datos *Elecciones - Script 2* "
   ]
  },
  {
   "cell_type": "code",
   "execution_count": null,
   "metadata": {},
   "outputs": [],
   "source": [
    "library(readxl)\n",
    "Elecciones = read_excel(\"Elecciones - Script 2.xls\")\n",
    "attach(Elecciones)\n",
    "#View(Elecciones)\n",
    "#summary(Elecciones)"
   ]
  },
  {
   "cell_type": "markdown",
   "metadata": {},
   "source": [
    "Realizamos una regresión nivel-nivel:"
   ]
  },
  {
   "cell_type": "code",
   "execution_count": null,
   "metadata": {
    "cache": true
   },
   "outputs": [],
   "source": [
    "RegresiónA1 = lm(voteA ~ democA +expendA + expendB + prtystrA) #lin-lin\n",
    "summary(RegresiónA1)"
   ]
  },
  {
   "cell_type": "markdown",
   "metadata": {},
   "source": [
    "Realizamos una regresión nivel-logaritmo:"
   ]
  },
  {
   "cell_type": "code",
   "execution_count": null,
   "metadata": {
    "cache": true
   },
   "outputs": [],
   "source": [
    "RegresiónA2 = lm(voteA ~ democA +log(expendA)+log(expendB) + log(prtystrA)) #lin-log\n",
    "summary(RegresiónA2)"
   ]
  },
  {
   "cell_type": "markdown",
   "metadata": {},
   "source": [
    "### Presentación de resultados:"
   ]
  },
  {
   "cell_type": "code",
   "execution_count": null,
   "metadata": {
    "cache": true
   },
   "outputs": [],
   "source": [
    "stargazer(RegresiónA1, RegresiónA2, type=\"text\",\n",
    "          column.labels = c(\"N-N\",\"N-L\"),\n",
    "          keep.stat = c(\"n\", \"rsq\", \"adj.rsq\", \"aic\"))"
   ]
  },
  {
   "cell_type": "markdown",
   "metadata": {},
   "source": [
    "## 3.3 Pruebas de significancia individual para las variables \n",
    "\n",
    "Para realizar las pruebas de significancia individual es necesario usar el paquete *lmtest*. "
   ]
  },
  {
   "cell_type": "code",
   "execution_count": null,
   "metadata": {},
   "outputs": [],
   "source": [
    "#install.packages(\"lmtest\")\n",
    "library(\"lmtest\")"
   ]
  },
  {
   "cell_type": "markdown",
   "metadata": {},
   "source": [
    "El comando *coeftest*\\footnote{del paquete lmtest} nos arroja la significancia estadística de los coeficientes estimados:"
   ]
  },
  {
   "cell_type": "code",
   "execution_count": null,
   "metadata": {
    "cache": true
   },
   "outputs": [],
   "source": [
    "coeftest(RegresiónA2)"
   ]
  },
  {
   "cell_type": "markdown",
   "metadata": {},
   "source": [
    "Intervalos de confianza para los coeficientes de la regresión al 90 % y 95 % especificamente:"
   ]
  },
  {
   "cell_type": "code",
   "execution_count": null,
   "metadata": {
    "cache": true
   },
   "outputs": [],
   "source": [
    "confint(RegresiónA2) #Al 95%\n",
    "confint(RegresiónA2, level = 0.90) #Al 90%"
   ]
  },
  {
   "cell_type": "markdown",
   "metadata": {},
   "source": [
    "Valores ajustados o estimados usando el comando *fitted.values* "
   ]
  },
  {
   "cell_type": "code",
   "execution_count": null,
   "metadata": {
    "cache": true
   },
   "outputs": [],
   "source": [
    "Estimados<-fitted.values(RegresiónA2)"
   ]
  },
  {
   "cell_type": "markdown",
   "metadata": {},
   "source": [
    "Residuales de la regresión  con el comando *residuals*"
   ]
  },
  {
   "cell_type": "code",
   "execution_count": null,
   "metadata": {
    "cache": true
   },
   "outputs": [],
   "source": [
    "Residuales<-residuals(RegresiónA2)\n",
    "RS.Residuals <-rstandard(RegresiónA2) # Residuales estandarizados (divididos por su desviación estándar)"
   ]
  },
  {
   "cell_type": "markdown",
   "metadata": {},
   "source": [
    "# 4. Validación de supuestos \n",
    "\n",
    "## 4.1 Test de Ramsey para especificaciones erróneas "
   ]
  },
  {
   "cell_type": "code",
   "execution_count": null,
   "metadata": {
    "cache": true
   },
   "outputs": [],
   "source": [
    "resettest(RegresiónA2) #Ho = el modelo está bien especificado"
   ]
  },
  {
   "cell_type": "markdown",
   "metadata": {},
   "source": [
    "## 4.2 Heteroscedasticidad en los residuales\n",
    "\n",
    "Es necesario instalar el paquete *car*"
   ]
  },
  {
   "cell_type": "code",
   "execution_count": null,
   "metadata": {
    "cache": true
   },
   "outputs": [],
   "source": [
    "#install.packages(\"car\")\n",
    "library(car)"
   ]
  },
  {
   "cell_type": "markdown",
   "metadata": {},
   "source": [
    "### Test Breusch-Pagan con Ho=Homocedasticidad"
   ]
  },
  {
   "cell_type": "code",
   "execution_count": null,
   "metadata": {
    "cache": true,
    "lines_to_next_cell": 2
   },
   "outputs": [],
   "source": [
    "bptest(RegresiónA2) #Test Breusch-Pagan con Ho=Homocedasticidad"
   ]
  },
  {
   "cell_type": "markdown",
   "metadata": {},
   "source": [
    "### Test de Varianza no constante con Ho= Homocedasticidad"
   ]
  },
  {
   "cell_type": "code",
   "execution_count": null,
   "metadata": {
    "cache": true
   },
   "outputs": [],
   "source": [
    "ncvTest(RegresiónA2) #Test de Varianza no constante con Ho= Homocedasticidad"
   ]
  },
  {
   "cell_type": "markdown",
   "metadata": {},
   "source": [
    "## Correlación serial en los residuales\n",
    "\n",
    "> Dado que la muestra es de corte transversal no tiene mucho sentido de hablar de correlación serial. No obstante, vale la pena aclarar que si se puede habalr de correlación espacial en muestras de corte trasnversal. La correlación serial va a tomar mucho más importancia cuando se estudien las series de tiempo. \n",
    "\n",
    "### Durbin Watson test (Ho:No autocorrelación de 1er orden)"
   ]
  },
  {
   "cell_type": "code",
   "execution_count": null,
   "metadata": {
    "cache": true
   },
   "outputs": [],
   "source": [
    "dwtest(RegresiónA2) #Durbin Watson test (Ho:No autocorrelación de 1er orden)"
   ]
  },
  {
   "cell_type": "markdown",
   "metadata": {},
   "source": [
    "### Prueba Breush-Godfrey (Ho:No autocorrelación de orden p)"
   ]
  },
  {
   "cell_type": "code",
   "execution_count": null,
   "metadata": {
    "cache": true
   },
   "outputs": [],
   "source": [
    "bgtest(RegresiónA2) #Prueba Breush-Godfrey (Ho:No autocorrelación de orden p)"
   ]
  },
  {
   "cell_type": "markdown",
   "metadata": {},
   "source": [
    "### Gráfico de correlación serial\n",
    "\n",
    "Una ACF concocida en español como una función de autocorrelación permite investigar si existe autocorrelación o correlación serial en los residuales de una series de tiempo\\footnote{Nuevamente, en este caso solo es un ejemplo ilustrativo dado que la correlación serial tiene sentido es en series de tiempo o en datos panel}."
   ]
  },
  {
   "cell_type": "code",
   "execution_count": null,
   "metadata": {
    "cache": true,
    "fig.height": 3.5
   },
   "outputs": [],
   "source": [
    "residA2 =rstandard(RegresiónA2)\n",
    "acf(residA2, xlab=\"Residuos\", ylab=\"Autocorrelaciones\", main= \"CORRELALOGRAMA\")"
   ]
  },
  {
   "cell_type": "markdown",
   "metadata": {},
   "source": [
    "## Errores robustos a la heteroscedasticidad \n",
    " \n",
    "Para realizar errores robustos en R es muy común usar el paquete *sandwich*."
   ]
  },
  {
   "cell_type": "code",
   "execution_count": null,
   "metadata": {
    "cache": true
   },
   "outputs": [],
   "source": [
    "#install.packages(\"sandwich\")\n",
    "library(\"sandwich\")"
   ]
  },
  {
   "cell_type": "markdown",
   "metadata": {},
   "source": [
    "El siguiente código, muestra:\n",
    "\n",
    "- **vcovHC**: Para calcular la matriz de varianzas y covarianzas con errores robutos a la heterocedasticidad\n",
    "- **coeftest**: coeficientes calculados luego de corregir por errores robustos a la heterocedasticidad"
   ]
  },
  {
   "cell_type": "code",
   "execution_count": null,
   "metadata": {
    "cache": true,
    "lines_to_next_cell": 0
   },
   "outputs": [],
   "source": [
    "vcovHC(RegresiónA2) # matriz de varianzas y covarianzas con errores robutos\n",
    "coeftest(RegresiónA2, vcov=vcovHC(RegresiónA2)) # coeficientes calculados luego de corregir por errores robustos a la heterocedasticidad\n",
    "coeftest(RegresiónA2)"
   ]
  },
  {
   "cell_type": "markdown",
   "metadata": {},
   "source": [
    "## Normalidad en los residuales \n",
    "\n",
    "Se importa el paquete *tseries*\\footnote{El paquete tseries sirve para manejar y manipular series de tiempo en R. Es muy usual emplearlo en series de tiempo} para poder utilizar el comando *jarque.bera.test*. El comando *jarque.bera.test* permite realizar una prueba de **Jarque Bera** la cula es una prueba formal para validar si los residuales presentan normalidad\\footnote{Recuerden que si los residuales no presentan normalidad la inferencia estadistica convncional sin ningún tipo de correción no es correcta}. \n",
    "\n",
    "### Test formal de Jarque Bera"
   ]
  },
  {
   "cell_type": "code",
   "execution_count": null,
   "metadata": {
    "cache": true
   },
   "outputs": [],
   "source": [
    "#install.packages(\"tseries\")\n",
    "library(\"tseries\")\n",
    "\n",
    "resreg=residuals(RegresiónA2) # Calculamos los residuos \n",
    "shapiro.test(resreg) # Ho= normalidad\n",
    "jarque.bera.test(resreg)#Test Jarque Bera  (#Ho= normalidad)/Más apropiado para series de tiempo"
   ]
  },
  {
   "cell_type": "markdown",
   "metadata": {},
   "source": [
    "### Histograma de los residuales\n",
    "\n",
    "Una forma de corroborar si los residuales presentan una distribución normal es a partir de la gráfica del histograma de éstos. Si la forma del histograma parece a la función de densidad de una distribución gaussiana puede ser un fuerte indicativo que los errrores se distribuyen normal\\footnote{Recordar que la distribución normal se caractriza por tener colas livianas (i.e. por no tener muchos valores atipicos en sus colas y concentrar la mayor parte de los resultados alrededor de su media.)}"
   ]
  },
  {
   "cell_type": "code",
   "execution_count": null,
   "metadata": {
    "cache": true
   },
   "outputs": [],
   "source": [
    "hist(resreg, freq=FALSE, main=\"Distribución de los Residuales\", breaks = 20, prob=TRUE)\n",
    "curve(dnorm(x, mean=mean(resreg), sd=sd(resreg)),col=\"darkblue\", lwd=2, add=TRUE)"
   ]
  },
  {
   "cell_type": "markdown",
   "metadata": {},
   "source": [
    "### Grafico QQplot\n",
    "\n",
    "Una gráfica de cuantiles-cuantiles o gráfica Q-Q es una forma de comparar gráficamente dos distribuciones. Por ello, estas gráficas son muy utilizadas para corroborar un supuestos de distribución de alguna muestra de datos. Por ejemplo, para que la inferencia estadistica usual sea correcta en un modelo de regresión lineal estimado por MCO es necesrio que los residuales se comporten como si provinieran de una distribución normal. "
   ]
  },
  {
   "cell_type": "markdown",
   "metadata": {},
   "source": [
    "Una gráfica tipo QQ-Plot permite comparar el comportamiento/distribución de los residuales, respecto a una distribución normal teórica. Es decir, se comparan los cuantiles teóricos de una distribución normal con los muestrales que resultarian de la distribución de los residuales. Es muy usual utilizar esta herramienta gráfica para validar el supusto de normalidad en los residuales dado que muchos test de normalidad no son muy robustos para algunas muestras de datos.\n",
    "\n",
    "Gráficamente, entre más cerca se distribuyan los *puntos*, que representan los cuantiles de la distribución muestral de los datos\\footnote{Nuevamente es muy usual utilizar esta prueba en los residuales de una regresión para validar el supuesto de linealidad}, respecto a una línea, que representaría la distribución teórica que se quiere corroborar en los datos\\footnote{Nuevamente, una de las distribuciones de comparación más usuales es la normal}, más cercano será la distribución muestral a la distribución teórica que se quiere validar en los datos.  \n",
    "\n",
    "Una manera rápida de realizar una qqplot es utilizando las funciones qqnorm y qqline que R provee por defecto: "
   ]
  },
  {
   "cell_type": "code",
   "execution_count": null,
   "metadata": {
    "cache": true
   },
   "outputs": [],
   "source": [
    "qqnorm(resreg)\n",
    "qqline(resreg)"
   ]
  },
  {
   "cell_type": "markdown",
   "metadata": {},
   "source": [
    "No obstante, una mejor manera de realizar la regresión es mediante el comando *qqPlot* del paquete *car*:"
   ]
  },
  {
   "cell_type": "code",
   "execution_count": null,
   "metadata": {
    "cache": true
   },
   "outputs": [],
   "source": [
    "#install.packages(\"car\")\n",
    "library(car)\n",
    "qqPlot(resreg)"
   ]
  },
  {
   "cell_type": "markdown",
   "metadata": {},
   "source": [
    "Como pueden obsrvar en la gráfica realizada mediante el comando qqPlot la línea azul continua representa los cuantiles de la distribución teórica, en este caso normal, mientras que el conjunto de puntos representa la distribución muesral. Las líneas punteadas azules representan los intervalos de confianza, que se interpretan de la manera usual. Por los resultados de la gráfica, se podría decir que la distribución de los residauales es aproximadamente normal, salvo algunos valores atípicos al final de las colas. \n",
    "\n",
    "Para las personas más interesadas en aprender más sobre qq-plots es recomendable leer el siguiente artículo: [QQplots en R!](https://www.tjmahr.com/quantile-quantile-plots-from-scratch/)"
   ]
  }
 ],
 "metadata": {
  "jupytext": {
   "cell_metadata_filter": "eval,echo,cache,name,warning,message,fig.height,-all",
   "main_language": "R",
   "notebook_metadata_filter": "-all"
  }
 },
 "nbformat": 4,
 "nbformat_minor": 4
}
